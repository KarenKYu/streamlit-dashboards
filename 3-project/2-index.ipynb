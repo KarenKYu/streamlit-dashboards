{
 "cells": [
  {
   "cell_type": "markdown",
   "metadata": {},
   "source": [
    "### Making Queries"
   ]
  },
  {
   "cell_type": "code",
   "execution_count": null,
   "metadata": {},
   "outputs": [],
   "source": [
    "Jan and Feb 2018 \n",
    "Jan and Feb 2020"
   ]
  },
  {
   "cell_type": "code",
   "execution_count": null,
   "metadata": {},
   "outputs": [],
   "source": [
    "https://data.texas.gov/resource/naix-2893.json?location_city=DALLAS&obligation_end_date_yyyymmdd=\"2020-01-31T00:00:00.000\""
   ]
  },
  {
   "cell_type": "code",
   "execution_count": 1,
   "metadata": {},
   "outputs": [
    {
     "data": {
      "text/plain": [
       "'https://data.texas.gov/resource/naix-2893.json?location_city=DALLAS&obligation_end_date_yyyymmdd=2018-01-31T00:00:00.000'"
      ]
     },
     "execution_count": 1,
     "metadata": {},
     "output_type": "execute_result"
    }
   ],
   "source": [
    "\"https://data.texas.gov/resource/naix-2893.json?location_city=DALLAS&obligation_end_date_yyyymmdd=2018-01-31T00:00:00.000\""
   ]
  },
  {
   "cell_type": "code",
   "execution_count": 2,
   "metadata": {},
   "outputs": [],
   "source": [
    "import pandas as pd\n",
    "url = \"https://data.texas.gov/resource/naix-2893.json\"\n",
    "import requests \n",
    "\n",
    "def find_by(city, year, month):\n",
    "    params = {'location_city': city,\n",
    "              \"obligation_end_date_yyyymmdd\": f\"{year}-{month}-31T00:00:00.000\"}\n",
    "    response = requests.get(url, params)\n",
    "    return response.json()"
   ]
  },
  {
   "cell_type": "code",
   "execution_count": 3,
   "metadata": {},
   "outputs": [],
   "source": [
    "records = find_by(\"DALLAS\", 2018, 1)"
   ]
  },
  {
   "cell_type": "code",
   "execution_count": 4,
   "metadata": {},
   "outputs": [],
   "source": [
    "def select_receipts(results):\n",
    "    return [int(result[\"total_receipts\"]) for result in results]"
   ]
  },
  {
   "cell_type": "code",
   "execution_count": 5,
   "metadata": {},
   "outputs": [],
   "source": [
    "receipts = select_receipts(records)"
   ]
  },
  {
   "cell_type": "code",
   "execution_count": 6,
   "metadata": {},
   "outputs": [],
   "source": [
    "removed_zeros = [receipt for receipt in list(sorted(receipts)) if receipt is not 0]"
   ]
  },
  {
   "cell_type": "markdown",
   "metadata": {},
   "source": [
    "* Divide into quartiles"
   ]
  },
  {
   "cell_type": "code",
   "execution_count": 7,
   "metadata": {},
   "outputs": [
    {
     "data": {
      "text/plain": [
       "946"
      ]
     },
     "execution_count": 7,
     "metadata": {},
     "output_type": "execute_result"
    }
   ],
   "source": [
    "len(removed_zeros)"
   ]
  },
  {
   "cell_type": "code",
   "execution_count": 8,
   "metadata": {},
   "outputs": [
    {
     "data": {
      "text/plain": [
       "[108, 128, 147]"
      ]
     },
     "execution_count": 8,
     "metadata": {},
     "output_type": "execute_result"
    }
   ],
   "source": [
    "removed_zeros[:3]"
   ]
  },
  {
   "cell_type": "code",
   "execution_count": 38,
   "metadata": {},
   "outputs": [
    {
     "data": {
      "text/plain": [
       "236.5"
      ]
     },
     "execution_count": 38,
     "metadata": {},
     "output_type": "execute_result"
    }
   ],
   "source": [
    "946/4"
   ]
  },
  {
   "cell_type": "code",
   "execution_count": 39,
   "metadata": {},
   "outputs": [
    {
     "data": {
      "text/plain": [
       "7779"
      ]
     },
     "execution_count": 39,
     "metadata": {},
     "output_type": "execute_result"
    }
   ],
   "source": [
    "removed_zeros[236]"
   ]
  },
  {
   "cell_type": "code",
   "execution_count": 40,
   "metadata": {},
   "outputs": [
    {
     "data": {
      "text/plain": [
       "64741"
      ]
     },
     "execution_count": 40,
     "metadata": {},
     "output_type": "execute_result"
    }
   ],
   "source": [
    "removed_zeros[946 - 236]"
   ]
  },
  {
   "cell_type": "code",
   "execution_count": 103,
   "metadata": {},
   "outputs": [],
   "source": [
    "def find_by_lt(city, year, month, total_receipts):\n",
    "    url = \"https://data.texas.gov/resource/naix-2893.json\"\n",
    "    city = f\"?location_city={city}\"\n",
    "    end_date = f\"&obligation_end_date_yyyymmdd={year}-{month}-31T00:00:00.000\"\n",
    "    total_receipts = f\"&$where=(total_receipts<{total_receipts}) AND (total_receipts>0)\"\n",
    "    return f'{url}{city}{end_date}{total_receipts}'\n",
    "    "
   ]
  },
  {
   "cell_type": "code",
   "execution_count": 104,
   "metadata": {},
   "outputs": [
    {
     "data": {
      "text/plain": [
       "'https://data.texas.gov/resource/naix-2893.json?location_city=DALLAS&obligation_end_date_yyyymmdd=2018-1-31T00:00:00.000&$where=(total_receipts<7779) AND (total_receipts>0)'"
      ]
     },
     "execution_count": 104,
     "metadata": {},
     "output_type": "execute_result"
    }
   ],
   "source": [
    "find_by_lt('DALLAS', 2018, 1, 7779)"
   ]
  },
  {
   "cell_type": "code",
   "execution_count": 98,
   "metadata": {},
   "outputs": [],
   "source": [
    "import requests\n",
    "def make_request(url):\n",
    "    return requests.get(url)"
   ]
  },
  {
   "cell_type": "code",
   "execution_count": 120,
   "metadata": {},
   "outputs": [],
   "source": [
    "response = make_request(find_by_lt('DALLAS', 2018, 1, 20000))\n",
    "                                                "
   ]
  },
  {
   "cell_type": "code",
   "execution_count": 121,
   "metadata": {},
   "outputs": [],
   "source": [
    "results = response.json()"
   ]
  },
  {
   "cell_type": "code",
   "execution_count": 122,
   "metadata": {},
   "outputs": [
    {
     "data": {
      "text/plain": [
       "536"
      ]
     },
     "execution_count": 122,
     "metadata": {},
     "output_type": "execute_result"
    }
   ],
   "source": [
    "len(results)"
   ]
  },
  {
   "cell_type": "code",
   "execution_count": 105,
   "metadata": {},
   "outputs": [],
   "source": [
    "def find_by_gt(city, year, month, total_receipts):\n",
    "    url = \"https://data.texas.gov/resource/naix-2893.json\"\n",
    "    city = f\"?location_city={city}\"\n",
    "    end_date = f\"&obligation_end_date_yyyymmdd={year}-{month}-31T00:00:00.000\"\n",
    "    total_receipts = f\"&$where=(total_receipts>{total_receipts})\"\n",
    "    return f'{url}{city}{end_date}{total_receipts}'\n",
    "    "
   ]
  },
  {
   "cell_type": "code",
   "execution_count": 106,
   "metadata": {},
   "outputs": [
    {
     "data": {
      "text/plain": [
       "'https://data.texas.gov/resource/naix-2893.json?location_city=DALLAS&obligation_end_date_yyyymmdd=2018-1-31T00:00:00.000&$where=(total_receipts>64741)'"
      ]
     },
     "execution_count": 106,
     "metadata": {},
     "output_type": "execute_result"
    }
   ],
   "source": [
    "find_by_gt('DALLAS', 2018, 1, 64741)"
   ]
  },
  {
   "cell_type": "code",
   "execution_count": 114,
   "metadata": {},
   "outputs": [],
   "source": [
    "response_gt = make_request(find_by_gt('DALLAS', 2018, 1, 30000))"
   ]
  },
  {
   "cell_type": "code",
   "execution_count": 115,
   "metadata": {},
   "outputs": [],
   "source": [
    "results_gt = response_gt.json()"
   ]
  },
  {
   "cell_type": "code",
   "execution_count": 116,
   "metadata": {},
   "outputs": [
    {
     "data": {
      "text/plain": [
       "578"
      ]
     },
     "execution_count": 116,
     "metadata": {},
     "output_type": "execute_result"
    }
   ],
   "source": [
    "len(results_gt)"
   ]
  },
  {
   "cell_type": "code",
   "execution_count": 141,
   "metadata": {},
   "outputs": [],
   "source": []
  },
  {
   "cell_type": "code",
   "execution_count": 152,
   "metadata": {},
   "outputs": [],
   "source": [
    "total = 64741\n",
    "params = {'location_city': \"DALLAS\",\n",
    "              \"obligation_end_date_yyyymmdd\": \"2018-01-31T00:00:00.000\", \n",
    "          '$where': f'(total_receipts>{total})'\n",
    "         }"
   ]
  },
  {
   "cell_type": "code",
   "execution_count": 165,
   "metadata": {},
   "outputs": [],
   "source": [
    "not_where_params = '&'.join([f\"{k}={v}\" for k, v in params.items() if k != '$where'])\n",
    "where_params = f\"$where={params.get('$where')}\" if params.get('$where') else \"\""
   ]
  },
  {
   "cell_type": "code",
   "execution_count": 157,
   "metadata": {},
   "outputs": [
    {
     "data": {
      "text/plain": [
       "'location_city=DALLAS&obligation_end_date_yyyymmdd=2018-01-31T00:00:00.000'"
      ]
     },
     "execution_count": 157,
     "metadata": {},
     "output_type": "execute_result"
    }
   ],
   "source": [
    "not_where_params"
   ]
  },
  {
   "cell_type": "code",
   "execution_count": 164,
   "metadata": {},
   "outputs": [
    {
     "data": {
      "text/plain": [
       "'$where=(total_receipts>64741)'"
      ]
     },
     "execution_count": 164,
     "metadata": {},
     "output_type": "execute_result"
    }
   ],
   "source": [
    "f\"$where={params.get('$where')}\" if params.get('$where') else \"\""
   ]
  },
  {
   "cell_type": "code",
   "execution_count": 158,
   "metadata": {},
   "outputs": [
    {
     "data": {
      "text/plain": [
       "'$where=(total_receipts>64741)'"
      ]
     },
     "execution_count": 158,
     "metadata": {},
     "output_type": "execute_result"
    }
   ],
   "source": [
    "where_params"
   ]
  },
  {
   "cell_type": "code",
   "execution_count": 175,
   "metadata": {},
   "outputs": [],
   "source": [
    "def params_to_s(params):\n",
    "    not_where_params = '&'.join([f\"{k}={v}\" for k, v in params.items() if k != '$where'])\n",
    "    where_params = f\"$where={params.get('$where')}\" if params.get('$where') else \"\"\n",
    "    return f\"{not_where_params}&{where_params}\""
   ]
  },
  {
   "cell_type": "code",
   "execution_count": 176,
   "metadata": {},
   "outputs": [],
   "source": [
    "s_params = params_to_s(params)\n",
    "root_url = \"https://data.texas.gov/resource/naix-2893.json?\"\n",
    "full_url = f\"{root_url}{s_params}\""
   ]
  },
  {
   "cell_type": "code",
   "execution_count": 177,
   "metadata": {},
   "outputs": [
    {
     "data": {
      "text/plain": [
       "'https://data.texas.gov/resource/naix-2893.json?location_city=DALLAS&obligation_end_date_yyyymmdd=2018-01-31T00:00:00.000&$where=(total_receipts>64741)'"
      ]
     },
     "execution_count": 177,
     "metadata": {},
     "output_type": "execute_result"
    }
   ],
   "source": [
    "full_url"
   ]
  },
  {
   "cell_type": "code",
   "execution_count": 180,
   "metadata": {},
   "outputs": [],
   "source": [
    "response = requests.get(full_url)"
   ]
  },
  {
   "cell_type": "code",
   "execution_count": 243,
   "metadata": {},
   "outputs": [
    {
     "name": "stdout",
     "output_type": "stream",
     "text": [
      "The autoreload extension is already loaded. To reload it, use:\n",
      "  %reload_ext autoreload\n"
     ]
    },
    {
     "name": "stderr",
     "output_type": "stream",
     "text": [
      "[autoreload of texas_api failed: Traceback (most recent call last):\n",
      "  File \"/Users/jeff/opt/anaconda3/lib/python3.7/site-packages/IPython/extensions/autoreload.py\", line 245, in check\n",
      "    superreload(m, reload, self.old_objects)\n",
      "  File \"/Users/jeff/opt/anaconda3/lib/python3.7/site-packages/IPython/extensions/autoreload.py\", line 450, in superreload\n",
      "    update_generic(old_obj, new_obj)\n",
      "  File \"/Users/jeff/opt/anaconda3/lib/python3.7/site-packages/IPython/extensions/autoreload.py\", line 387, in update_generic\n",
      "    update(a, b)\n",
      "  File \"/Users/jeff/opt/anaconda3/lib/python3.7/site-packages/IPython/extensions/autoreload.py\", line 357, in update_class\n",
      "    update_instances(old, new)\n",
      "  File \"/Users/jeff/opt/anaconda3/lib/python3.7/site-packages/IPython/extensions/autoreload.py\", line 312, in update_instances\n",
      "    update_instances(old, new, obj.__dict__, visited)\n",
      "  File \"/Users/jeff/opt/anaconda3/lib/python3.7/site-packages/IPython/extensions/autoreload.py\", line 312, in update_instances\n",
      "    update_instances(old, new, obj.__dict__, visited)\n",
      "  File \"/Users/jeff/opt/anaconda3/lib/python3.7/site-packages/IPython/extensions/autoreload.py\", line 312, in update_instances\n",
      "    update_instances(old, new, obj.__dict__, visited)\n",
      "  File \"/Users/jeff/opt/anaconda3/lib/python3.7/site-packages/IPython/extensions/autoreload.py\", line 317, in update_instances\n",
      "    update_instances(old, new, obj, visited)\n",
      "  File \"/Users/jeff/opt/anaconda3/lib/python3.7/site-packages/IPython/extensions/autoreload.py\", line 300, in update_instances\n",
      "    for obj in (obj for obj in objects if id(obj) not in visited):\n",
      "  File \"/Users/jeff/opt/anaconda3/lib/python3.7/site-packages/IPython/extensions/autoreload.py\", line 300, in <genexpr>\n",
      "    for obj in (obj for obj in objects if id(obj) not in visited):\n",
      "NotImplementedError: Iteration over this class is unlikely to be threadsafe.\n",
      "]\n"
     ]
    }
   ],
   "source": [
    "%load_ext autoreload\n",
    "\n",
    "%autoreload 2"
   ]
  },
  {
   "cell_type": "code",
   "execution_count": 261,
   "metadata": {},
   "outputs": [],
   "source": [
    "from texas_api import TexasApi"
   ]
  },
  {
   "cell_type": "code",
   "execution_count": 262,
   "metadata": {},
   "outputs": [],
   "source": [
    "tx = TexasApi()"
   ]
  },
  {
   "cell_type": "code",
   "execution_count": 246,
   "metadata": {},
   "outputs": [],
   "source": [
    "total = 64741\n",
    "params = {'location_city': \"DALLAS\",\n",
    "              \"obligation_end_date_yyyymmdd\": \"2018-01-31T00:00:00.000\", \n",
    "          '$where': f'(total_receipts>{total})'\n",
    "         }"
   ]
  },
  {
   "cell_type": "code",
   "execution_count": 231,
   "metadata": {},
   "outputs": [
    {
     "data": {
      "text/plain": [
       "'(total_receipts>64741)'"
      ]
     },
     "execution_count": 231,
     "metadata": {},
     "output_type": "execute_result"
    }
   ],
   "source": [
    "params.get('$where')"
   ]
  },
  {
   "cell_type": "code",
   "execution_count": 242,
   "metadata": {},
   "outputs": [
    {
     "data": {
      "text/plain": [
       "{'foo': None}"
      ]
     },
     "execution_count": 242,
     "metadata": {},
     "output_type": "execute_result"
    }
   ],
   "source": [
    "{'foo': None}"
   ]
  },
  {
   "cell_type": "code",
   "execution_count": 265,
   "metadata": {},
   "outputs": [
    {
     "name": "stderr",
     "output_type": "stream",
     "text": [
      "[autoreload of texas_api failed: Traceback (most recent call last):\n",
      "  File \"/Users/jeff/opt/anaconda3/lib/python3.7/site-packages/IPython/extensions/autoreload.py\", line 245, in check\n",
      "    superreload(m, reload, self.old_objects)\n",
      "  File \"/Users/jeff/opt/anaconda3/lib/python3.7/site-packages/IPython/extensions/autoreload.py\", line 450, in superreload\n",
      "    update_generic(old_obj, new_obj)\n",
      "  File \"/Users/jeff/opt/anaconda3/lib/python3.7/site-packages/IPython/extensions/autoreload.py\", line 387, in update_generic\n",
      "    update(a, b)\n",
      "  File \"/Users/jeff/opt/anaconda3/lib/python3.7/site-packages/IPython/extensions/autoreload.py\", line 357, in update_class\n",
      "    update_instances(old, new)\n",
      "  File \"/Users/jeff/opt/anaconda3/lib/python3.7/site-packages/IPython/extensions/autoreload.py\", line 312, in update_instances\n",
      "    update_instances(old, new, obj.__dict__, visited)\n",
      "  File \"/Users/jeff/opt/anaconda3/lib/python3.7/site-packages/IPython/extensions/autoreload.py\", line 312, in update_instances\n",
      "    update_instances(old, new, obj.__dict__, visited)\n",
      "  File \"/Users/jeff/opt/anaconda3/lib/python3.7/site-packages/IPython/extensions/autoreload.py\", line 312, in update_instances\n",
      "    update_instances(old, new, obj.__dict__, visited)\n",
      "  File \"/Users/jeff/opt/anaconda3/lib/python3.7/site-packages/IPython/extensions/autoreload.py\", line 317, in update_instances\n",
      "    update_instances(old, new, obj, visited)\n",
      "  File \"/Users/jeff/opt/anaconda3/lib/python3.7/site-packages/IPython/extensions/autoreload.py\", line 300, in update_instances\n",
      "    for obj in (obj for obj in objects if id(obj) not in visited):\n",
      "  File \"/Users/jeff/opt/anaconda3/lib/python3.7/site-packages/IPython/extensions/autoreload.py\", line 300, in <genexpr>\n",
      "    for obj in (obj for obj in objects if id(obj) not in visited):\n",
      "NotImplementedError: Iteration over this class is unlikely to be threadsafe.\n",
      "]\n"
     ]
    },
    {
     "data": {
      "text/plain": [
       "'https://data.texas.gov/resource/naix-2893.jsonlocation_city=DALLAS&obligation_end_date_yyyymmdd=2018-01-31T00:00:00.000&$where=(total_receipts>64741)'"
      ]
     },
     "execution_count": 265,
     "metadata": {},
     "output_type": "execute_result"
    }
   ],
   "source": [
    "tx.full_url(params)"
   ]
  },
  {
   "cell_type": "code",
   "execution_count": null,
   "metadata": {},
   "outputs": [],
   "source": []
  }
 ],
 "metadata": {
  "kernelspec": {
   "display_name": "Python 3",
   "language": "python",
   "name": "python3"
  },
  "language_info": {
   "codemirror_mode": {
    "name": "ipython",
    "version": 3
   },
   "file_extension": ".py",
   "mimetype": "text/x-python",
   "name": "python",
   "nbconvert_exporter": "python",
   "pygments_lexer": "ipython3",
   "version": "3.7.4"
  }
 },
 "nbformat": 4,
 "nbformat_minor": 4
}
