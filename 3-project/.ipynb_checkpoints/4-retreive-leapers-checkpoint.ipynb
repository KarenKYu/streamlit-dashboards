{
 "cells": [
  {
   "cell_type": "markdown",
   "metadata": {},
   "source": [
    "### Retreive Venue ids from CSV, to eventually populate db"
   ]
  },
  {
   "cell_type": "code",
   "execution_count": 2,
   "metadata": {},
   "outputs": [],
   "source": [
    "import pandas as pd"
   ]
  },
  {
   "cell_type": "code",
   "execution_count": 24,
   "metadata": {},
   "outputs": [],
   "source": [
    "df = pd.read_csv('./gap_venues.csv', index_col = 0)"
   ]
  },
  {
   "cell_type": "code",
   "execution_count": 25,
   "metadata": {},
   "outputs": [
    {
     "data": {
      "text/plain": [
       "(342, 2)"
      ]
     },
     "execution_count": 25,
     "metadata": {},
     "output_type": "execute_result"
    }
   ],
   "source": [
    "df.shape"
   ]
  },
  {
   "cell_type": "code",
   "execution_count": 32,
   "metadata": {},
   "outputs": [],
   "source": [
    "first_venue = venues[0]"
   ]
  },
  {
   "cell_type": "code",
   "execution_count": 28,
   "metadata": {},
   "outputs": [],
   "source": [
    "import requests\n",
    "url = \"https://data.texas.gov/resource/naix-2893.json\""
   ]
  },
  {
   "cell_type": "code",
   "execution_count": 33,
   "metadata": {},
   "outputs": [
    {
     "data": {
      "text/plain": [
       "[{'taxpayer_number': '17606321739',\n",
       "  'taxpayer_name': 'OMNI BANQUETS, INC.',\n",
       "  'taxpayer_address': '12121 WESTHEIMER RD STE 130',\n",
       "  'taxpayer_city': 'HOUSTON',\n",
       "  'taxpayer_state': 'TX',\n",
       "  'taxpayer_zip': '77077',\n",
       "  'taxpayer_county': '101',\n",
       "  'location_number': '1',\n",
       "  'location_name': 'PELAZZIO BANQUETS CATERING AND CONFERENCES',\n",
       "  'location_address': '12121 WESTHEIMER RD STE 130',\n",
       "  'location_city': 'HOUSTON',\n",
       "  'location_state': 'TX',\n",
       "  'location_zip': '77077',\n",
       "  'location_county': '101',\n",
       "  'inside_outside_city_limits_code_y_n': 'Y',\n",
       "  'tabc_permit_number': 'MB471559',\n",
       "  'responsibility_begin_date_yyyymmdd': '2000-05-09T00:00:00.000',\n",
       "  'obligation_end_date_yyyymmdd': '2020-01-31T00:00:00.000',\n",
       "  'liquor_receipts': '14641',\n",
       "  'wine_receipts': '3379',\n",
       "  'beer_receipts': '4505',\n",
       "  'cover_charge_receipts': '0',\n",
       "  'total_receipts': '22525'}]"
      ]
     },
     "execution_count": 33,
     "metadata": {},
     "output_type": "execute_result"
    }
   ],
   "source": [
    "def build_end_date(year, month):\n",
    "    return {'obligation_end_date_yyyymmdd': f'{year}-{month}-31T00:00:00.000'}\n",
    "\n",
    "params = build_end_date(2020, 1)\n",
    "params.update(first_venue)\n",
    "response = requests.get(url, params)\n",
    "response.json()"
   ]
  },
  {
   "cell_type": "code",
   "execution_count": null,
   "metadata": {},
   "outputs": [],
   "source": [
    "venue = ['location_name', 'taxpayer_name', 'location_number']\n",
    "location = ['city', 'state', 'zip_code', 'location_address']\n",
    "keys = ['wine_receipts', 'beer_receipts', 'total_receipts']"
   ]
  },
  {
   "cell_type": "code",
   "execution_count": 16,
   "metadata": {},
   "outputs": [],
   "source": [
    "import sqlite3\n",
    "conn = sqlite3.connect('restaurants.db')\n",
    "cursor = conn.cursor()"
   ]
  },
  {
   "cell_type": "code",
   "execution_count": 20,
   "metadata": {},
   "outputs": [],
   "source": [
    "import requests\n",
    "url = \"https://data.texas.gov/resource/naix-2893.json\"\n",
    "params = {'obligation_end_date_yyyymmdd': '2020-1-31T00:00:00.000'}"
   ]
  },
  {
   "cell_type": "code",
   "execution_count": 36,
   "metadata": {},
   "outputs": [],
   "source": [
    "venue_ids = df.to_dict('records')"
   ]
  },
  {
   "cell_type": "code",
   "execution_count": 40,
   "metadata": {},
   "outputs": [
    {
     "data": {
      "text/plain": [
       "342"
      ]
     },
     "execution_count": 40,
     "metadata": {},
     "output_type": "execute_result"
    }
   ],
   "source": [
    "len(venue_ids)"
   ]
  },
  {
   "cell_type": "markdown",
   "metadata": {},
   "source": [
    "### "
   ]
  },
  {
   "cell_type": "code",
   "execution_count": 34,
   "metadata": {},
   "outputs": [],
   "source": [
    "venues = []\n",
    "for venue_id in venue_ids:\n",
    "    params = {'obligation_end_date_yyyymmdd': '2020-1-31T00:00:00.000'}\n",
    "    params.update(venue_id)\n",
    "    response = requests.get(url, params)\n",
    "    venues.append(response.json()[0])"
   ]
  },
  {
   "cell_type": "code",
   "execution_count": 36,
   "metadata": {},
   "outputs": [],
   "source": [
    "def reduced_venues():\n",
    "    venue_identifiers = ['location_name', 'taxpayer_number', 'location_number', 'responsibility_begin_date_yyyymmdd']\n",
    "    location = ['location_city', 'location_zip', 'location_address']\n",
    "    selected_attrs = venue_identifiers + location\n",
    "    scoped_venues = []\n",
    "    for venue in venues:\n",
    "        scoped_venues.append({k:v for k, v in venue.items() if k in selected_attrs})\n",
    "    return scoped_venues"
   ]
  },
  {
   "cell_type": "code",
   "execution_count": 46,
   "metadata": {},
   "outputs": [],
   "source": [
    "scoped_vens = reduced_venues()"
   ]
  },
  {
   "cell_type": "code",
   "execution_count": 1,
   "metadata": {},
   "outputs": [],
   "source": [
    "# scoped_vens[:3]"
   ]
  },
  {
   "cell_type": "code",
   "execution_count": 10,
   "metadata": {},
   "outputs": [],
   "source": [
    "import pandas as pd "
   ]
  },
  {
   "cell_type": "code",
   "execution_count": 12,
   "metadata": {},
   "outputs": [],
   "source": [
    "# df_scoped = pd.DataFrame(scoped_vens)"
   ]
  },
  {
   "cell_type": "code",
   "execution_count": 13,
   "metadata": {},
   "outputs": [],
   "source": [
    "# df_scoped.to_sql('venues',conn, index=True, index_label='id')"
   ]
  },
  {
   "cell_type": "markdown",
   "metadata": {},
   "source": [
    "### Select venues from sql"
   ]
  },
  {
   "cell_type": "code",
   "execution_count": 41,
   "metadata": {},
   "outputs": [],
   "source": [
    "sql_venues = pd.read_sql('select * from venues;', conn)"
   ]
  },
  {
   "cell_type": "code",
   "execution_count": 42,
   "metadata": {},
   "outputs": [],
   "source": [
    "sql_vens = sql_venues.to_dict('records')"
   ]
  },
  {
   "cell_type": "code",
   "execution_count": 44,
   "metadata": {},
   "outputs": [],
   "source": [
    "# sql_vens[:3]"
   ]
  },
  {
   "cell_type": "code",
   "execution_count": 48,
   "metadata": {},
   "outputs": [],
   "source": [
    "def find_receipts_by_number(venue, order_by = 'obligation_end_date_yyyymmdd DESC', months = 36):\n",
    "    taxpayer_number = venue['taxpayer_number']\n",
    "    response = requests.get(url,\n",
    "                            {'taxpayer_number': taxpayer_number, \n",
    "                             '$ORDER': order_by})\n",
    "    receipts = response.json()[:months]\n",
    "    return receipts"
   ]
  },
  {
   "cell_type": "code",
   "execution_count": 53,
   "metadata": {},
   "outputs": [],
   "source": [
    "def transform_receipts(receipts,  venue):\n",
    "    scoped_receipts = [scope_receipt(receipt) for receipt in receipts]\n",
    "    for receipt in scoped_receipts:\n",
    "        receipt['venue_id'] = venue['id']\n",
    "    return scoped_receipts"
   ]
  },
  {
   "cell_type": "code",
   "execution_count": 5,
   "metadata": {},
   "outputs": [],
   "source": [
    "def scope_receipt(receipt, attrs = ['obligation_end_date_yyyymmdd', 'liquor_receipts', 'wine_receipts', 'beer_receipts', 'cover_charge_receipts', 'total_receipts']):\n",
    "    return {k:v for k,v in receipt.items() if k in attrs}"
   ]
  },
  {
   "cell_type": "code",
   "execution_count": 56,
   "metadata": {},
   "outputs": [],
   "source": [
    "def collect_receipts():\n",
    "    receipts_dfs = []\n",
    "    for venue in sql_vens:\n",
    "        receipts = find_receipts_by_number(venue)\n",
    "        scoped_receipts = transform_receipts(receipts,  venue)\n",
    "        df = pd.DataFrame(scoped_receipts)\n",
    "        receipts_dfs.append(df)\n",
    "    return receipts_dfs"
   ]
  },
  {
   "cell_type": "code",
   "execution_count": 58,
   "metadata": {},
   "outputs": [],
   "source": [
    "for receipts_df in receipts_dfs:\n",
    "    receipts_df.to_sql('receipts',conn, if_exists = 'append')"
   ]
  },
  {
   "cell_type": "code",
   "execution_count": 61,
   "metadata": {},
   "outputs": [
    {
     "data": {
      "text/html": [
       "<div>\n",
       "<style scoped>\n",
       "    .dataframe tbody tr th:only-of-type {\n",
       "        vertical-align: middle;\n",
       "    }\n",
       "\n",
       "    .dataframe tbody tr th {\n",
       "        vertical-align: top;\n",
       "    }\n",
       "\n",
       "    .dataframe thead th {\n",
       "        text-align: right;\n",
       "    }\n",
       "</style>\n",
       "<table border=\"1\" class=\"dataframe\">\n",
       "  <thead>\n",
       "    <tr style=\"text-align: right;\">\n",
       "      <th></th>\n",
       "      <th>count(*)</th>\n",
       "    </tr>\n",
       "  </thead>\n",
       "  <tbody>\n",
       "    <tr>\n",
       "      <th>0</th>\n",
       "      <td>11830</td>\n",
       "    </tr>\n",
       "  </tbody>\n",
       "</table>\n",
       "</div>"
      ],
      "text/plain": [
       "   count(*)\n",
       "0     11830"
      ]
     },
     "execution_count": 61,
     "metadata": {},
     "output_type": "execute_result"
    }
   ],
   "source": [
    "pd.read_sql('select count(*) from receipts;', conn)"
   ]
  },
  {
   "cell_type": "code",
   "execution_count": 62,
   "metadata": {},
   "outputs": [
    {
     "data": {
      "text/html": [
       "<div>\n",
       "<style scoped>\n",
       "    .dataframe tbody tr th:only-of-type {\n",
       "        vertical-align: middle;\n",
       "    }\n",
       "\n",
       "    .dataframe tbody tr th {\n",
       "        vertical-align: top;\n",
       "    }\n",
       "\n",
       "    .dataframe thead th {\n",
       "        text-align: right;\n",
       "    }\n",
       "</style>\n",
       "<table border=\"1\" class=\"dataframe\">\n",
       "  <thead>\n",
       "    <tr style=\"text-align: right;\">\n",
       "      <th></th>\n",
       "      <th>index</th>\n",
       "      <th>beer_receipts</th>\n",
       "      <th>cover_charge_receipts</th>\n",
       "      <th>liquor_receipts</th>\n",
       "      <th>obligation_end_date_yyyymmdd</th>\n",
       "      <th>total_receipts</th>\n",
       "      <th>venue_id</th>\n",
       "      <th>wine_receipts</th>\n",
       "    </tr>\n",
       "  </thead>\n",
       "  <tbody>\n",
       "    <tr>\n",
       "      <th>0</th>\n",
       "      <td>0</td>\n",
       "      <td>4505</td>\n",
       "      <td>0</td>\n",
       "      <td>14641</td>\n",
       "      <td>2020-01-31T00:00:00.000</td>\n",
       "      <td>22525</td>\n",
       "      <td>0</td>\n",
       "      <td>3379</td>\n",
       "    </tr>\n",
       "  </tbody>\n",
       "</table>\n",
       "</div>"
      ],
      "text/plain": [
       "   index beer_receipts cover_charge_receipts liquor_receipts  \\\n",
       "0      0          4505                     0           14641   \n",
       "\n",
       "  obligation_end_date_yyyymmdd total_receipts  venue_id wine_receipts  \n",
       "0      2020-01-31T00:00:00.000          22525         0          3379  "
      ]
     },
     "execution_count": 62,
     "metadata": {},
     "output_type": "execute_result"
    }
   ],
   "source": [
    "pd.read_sql('select * from receipts limit 1;', conn)"
   ]
  },
  {
   "cell_type": "code",
   "execution_count": 63,
   "metadata": {},
   "outputs": [
    {
     "data": {
      "text/html": [
       "<div>\n",
       "<style scoped>\n",
       "    .dataframe tbody tr th:only-of-type {\n",
       "        vertical-align: middle;\n",
       "    }\n",
       "\n",
       "    .dataframe tbody tr th {\n",
       "        vertical-align: top;\n",
       "    }\n",
       "\n",
       "    .dataframe thead th {\n",
       "        text-align: right;\n",
       "    }\n",
       "</style>\n",
       "<table border=\"1\" class=\"dataframe\">\n",
       "  <thead>\n",
       "    <tr style=\"text-align: right;\">\n",
       "      <th></th>\n",
       "      <th>COUNT(DISTINCT(venue_id))</th>\n",
       "    </tr>\n",
       "  </thead>\n",
       "  <tbody>\n",
       "    <tr>\n",
       "      <th>0</th>\n",
       "      <td>342</td>\n",
       "    </tr>\n",
       "  </tbody>\n",
       "</table>\n",
       "</div>"
      ],
      "text/plain": [
       "   COUNT(DISTINCT(venue_id))\n",
       "0                        342"
      ]
     },
     "execution_count": 63,
     "metadata": {},
     "output_type": "execute_result"
    }
   ],
   "source": [
    "pd.read_sql('select COUNT(DISTINCT(venue_id)) from receipts;', conn)"
   ]
  },
  {
   "cell_type": "code",
   "execution_count": 69,
   "metadata": {},
   "outputs": [],
   "source": [
    "# pd.read_sql('SELECT venue_id, COUNT(*) as receipts_per_ven FROM receipts GROUP BY venue_id ORDER BY receipts_per_ven ASC LIMIT 10', conn)"
   ]
  }
 ],
 "metadata": {
  "kernelspec": {
   "display_name": "Python 3",
   "language": "python",
   "name": "python3"
  },
  "language_info": {
   "codemirror_mode": {
    "name": "ipython",
    "version": 3
   },
   "file_extension": ".py",
   "mimetype": "text/x-python",
   "name": "python",
   "nbconvert_exporter": "python",
   "pygments_lexer": "ipython3",
   "version": "3.7.4"
  }
 },
 "nbformat": 4,
 "nbformat_minor": 4
}
