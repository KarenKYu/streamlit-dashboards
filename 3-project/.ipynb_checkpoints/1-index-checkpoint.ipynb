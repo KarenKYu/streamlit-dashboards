{
 "cells": [
  {
   "cell_type": "markdown",
   "metadata": {},
   "source": [
    "# Planning a Project"
   ]
  },
  {
   "cell_type": "markdown",
   "metadata": {},
   "source": [
    "* Let's say that we are interested in the restaurants and food.  \n",
    "* The first thing we would like to do is consider the different ways that we can use data to help various stakeholders in the industry.\n",
    "\n",
    "For example, here are some people that may be interested in restaurants:\n",
    "* Individual restaurant owners\n",
    "* Restaurant chains\n",
    "* Foodies/Restaurant consumers \n",
    "\n",
    "We'd like to make our application relevant to businesses, so then that leaves those who own a restaurant chain or individual restaurant owners as two individuals we can consider a perspective of."
   ]
  },
  {
   "cell_type": "markdown",
   "metadata": {},
   "source": [
    "What questions might owners of restaurants and restaurant chains be interested in? \n",
    "\n",
    "* What type of cuisine is best to serve?\n",
    "* What location is best?\n",
    "* How important is the restaurant food?\n",
    "* How important is the price?\n",
    "* How important is the service?"
   ]
  },
  {
   "cell_type": "markdown",
   "metadata": {},
   "source": [
    "If we do some brainstorming, let's start to think about how answering these questions are actionable."
   ]
  },
  {
   "cell_type": "markdown",
   "metadata": {},
   "source": [
    "Well, the first two questions are most important when a restaurant is just starting out, while the other three are important throughout the lifetime of the restaurant.  \n",
    "\n",
    "This isn't to say that one is more or less valuable than the other, but if we were to try to get feedback on our application, probably the last three are items we could get more feedback on."
   ]
  },
  {
   "cell_type": "markdown",
   "metadata": {},
   "source": [
    "What steps can individual restaurant owner do to earn more money.  That seems like a good step."
   ]
  },
  {
   "cell_type": "markdown",
   "metadata": {},
   "source": [
    "How can we answer this question?"
   ]
  },
  {
   "cell_type": "markdown",
   "metadata": {},
   "source": [
    "* One thing we could do is look at average growth of restaurant sales per month.  The only issue is that performing this query may take a long time.  \n",
    "\n",
    "* To move faster, perhaps let's look at restaurants that started in the bottom, and then moved higher to the top."
   ]
  },
  {
   "cell_type": "markdown",
   "metadata": {},
   "source": [
    "Breaking this problem down, we now have two steps:\n",
    "    1. What are restaurants in the bottom?\n",
    "    2. What are restaurants in the top?\n",
    "    3. What are restaurants who spent sometime in both categories?\n",
    "\n",
    "* Notice that this will give us three kinds of restaurants:\n",
    "    1. The restaurants that go from bottom to top\n",
    "    2. The restaurants that go from top to bottom\n",
    "    3. The oscillators."
   ]
  },
  {
   "cell_type": "markdown",
   "metadata": {},
   "source": [
    "## Taking Action"
   ]
  },
  {
   "cell_type": "markdown",
   "metadata": {},
   "source": [
    "1. What are restaurants in the bottom?\n",
    "\n",
    "Ok, now how are we going to find restaurants at the bottom?\n",
    "* Well the obvious way would just be to search for restaurants with small numbers.  What are some of the problems with that?\n",
    "\n",
    "\n",
    "* We can do that but just one datapoint could just represent a bad month, or perhaps a restaurant that just opened.  So instead let's perhaps see restaurants that had multiple low months.  Or perhaps we'd find restaurants in a less populous area, so of course they'll be towards the bottom."
   ]
  },
  {
   "cell_type": "markdown",
   "metadata": {},
   "source": [
    "So let's focus on restaurants in cities in Texas."
   ]
  },
  {
   "cell_type": "code",
   "execution_count": null,
   "metadata": {},
   "outputs": [],
   "source": []
  }
 ],
 "metadata": {
  "kernelspec": {
   "display_name": "Python 3",
   "language": "python",
   "name": "python3"
  },
  "language_info": {
   "codemirror_mode": {
    "name": "ipython",
    "version": 3
   },
   "file_extension": ".py",
   "mimetype": "text/x-python",
   "name": "python",
   "nbconvert_exporter": "python",
   "pygments_lexer": "ipython3",
   "version": "3.7.4"
  }
 },
 "nbformat": 4,
 "nbformat_minor": 4
}
