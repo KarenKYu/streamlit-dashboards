{
 "cells": [
  {
   "cell_type": "markdown",
   "metadata": {},
   "source": [
    "# Getting Started with Streamlit"
   ]
  },
  {
   "cell_type": "markdown",
   "metadata": {},
   "source": [
    "### Introduction"
   ]
  },
  {
   "cell_type": "markdown",
   "metadata": {},
   "source": [
    "Streamlit is a Python package that allows us to quickly build Python dashboards.  It's a great way for us to show our analysis and present our findings.  Let's get started."
   ]
  },
  {
   "cell_type": "markdown",
   "metadata": {},
   "source": [
    "### Starting with Streamlit"
   ]
  },
  {
   "cell_type": "markdown",
   "metadata": {},
   "source": [
    "To get started with streamlit, we first need to install it."
   ]
  },
  {
   "cell_type": "markdown",
   "metadata": {},
   "source": [
    "`pip install streamlit`"
   ]
  },
  {
   "cell_type": "markdown",
   "metadata": {},
   "source": [
    "Next, to get started with streamlit we should do the following.  "
   ]
  },
  {
   "cell_type": "markdown",
   "metadata": {},
   "source": [
    "1. From the terminal, create a file called `app.py`\n",
    "2. In the file, write the following:\n",
    "\n",
    "```python\n",
    "# app.py\n",
    "\n",
    "import streamlit as st\n",
    "\n",
    "st.write('hello world')\n",
    "```"
   ]
  },
  {
   "cell_type": "markdown",
   "metadata": {},
   "source": [
    "3. Finally, from the terminal, let's make first make sure that we are in the same directory as `app.py`, and then we can run the following:\n",
    "    * `streamlit run app.py`"
   ]
  },
  {
   "cell_type": "markdown",
   "metadata": {},
   "source": [
    "<img src=\"./streamlit.png\" width=\"50%\">"
   ]
  },
  {
   "cell_type": "markdown",
   "metadata": {},
   "source": [
    "### Streamlit commands: Working with Text"
   ]
  },
  {
   "cell_type": "markdown",
   "metadata": {},
   "source": [
    "Ok, for the rest of this lesson, let's work with commands that will allow us to present text in streamlit.  \n",
    "\n",
    "> Always rerun: The first thing to know is that while we change the `app.py` file, we can automatically see our changes in the browser.  We just have to click the `always rerun` button on the top right of the screen."
   ]
  },
  {
   "cell_type": "markdown",
   "metadata": {},
   "source": [
    "Ok, now let's code along with a few commands."
   ]
  },
  {
   "cell_type": "markdown",
   "metadata": {},
   "source": [
    "```python\n",
    "st.title(\"What makes a restaurant successful?\")\n",
    "st.header(\"Key Points\")\n",
    "st.subheader(\"First, have good food.\")\n",
    "st.text(\"Of all of the factors, quality of food displayed proved to be the most important factor.\")\n",
    "```"
   ]
  },
  {
   "cell_type": "markdown",
   "metadata": {},
   "source": [
    "The four methods above essentially do what they say.  \n",
    "* `title` is for the title of our page\n",
    "* `header` and `subheader` are to demarcate an outline of our page\n",
    "* And `text` is to display page content."
   ]
  },
  {
   "cell_type": "markdown",
   "metadata": {},
   "source": [
    "> Our dashboard should look something like the following."
   ]
  },
  {
   "cell_type": "markdown",
   "metadata": {},
   "source": [
    "<img src=\"./different-text.png\">"
   ]
  },
  {
   "cell_type": "markdown",
   "metadata": {},
   "source": [
    "Let's say we want to emphasize some text with some colors.  We can do so with the following:"
   ]
  },
  {
   "cell_type": "markdown",
   "metadata": {},
   "source": [
    "```python\n",
    "st.success(\"Restaurants with good food.\")\n",
    "st.info(\"Notice that price did not appear to play a role\")\n",
    "st.warning(\"But with excessive price can come angry customers.\")\n",
    "```"
   ]
  },
  {
   "cell_type": "markdown",
   "metadata": {},
   "source": [
    "Finally, the `write` method will try to find a nice way to display anything we pass to it."
   ]
  },
  {
   "cell_type": "markdown",
   "metadata": {},
   "source": [
    "```python\n",
    "st.write(['moes', 'selmas'])\n",
    "```"
   ]
  },
  {
   "cell_type": "markdown",
   "metadata": {},
   "source": [
    "And this displays as the following."
   ]
  },
  {
   "cell_type": "markdown",
   "metadata": {},
   "source": [
    "<img src=\"./top-restaurants.png\" width=\"50%\">"
   ]
  },
  {
   "cell_type": "markdown",
   "metadata": {},
   "source": [
    "### Using Markdown"
   ]
  },
  {
   "cell_type": "markdown",
   "metadata": {},
   "source": [
    "In streamlit, we are free to use markdown to display information.\n",
    "\n",
    "```python\n",
    "st.markdown('* sam')\n",
    "```"
   ]
  },
  {
   "cell_type": "markdown",
   "metadata": {},
   "source": [
    "For example, adding the above, will add a bullet point next to the text `sam`.  Markdown essentially allows to produce some basic HTML like:\n",
    "\n",
    "```markdown\n",
    "**bold**\n",
    "\n",
    "*italics*\n",
    "\n",
    "* bullet\n",
    "* points\n",
    "\n",
    "#### And Headers\n",
    "```"
   ]
  },
  {
   "cell_type": "markdown",
   "metadata": {},
   "source": [
    "### Combining Code with Streamlit"
   ]
  },
  {
   "cell_type": "markdown",
   "metadata": {},
   "source": [
    "Finally, we can mix in pure Python into our `app.py` file.  For example, look at the following code:"
   ]
  },
  {
   "cell_type": "markdown",
   "metadata": {},
   "source": [
    "```python\n",
    "employees = ['moes', 'selmas', 'pats']\n",
    "for employee in employees:\n",
    "    st.markdown(f'* {employee}')\n",
    "```"
   ]
  },
  {
   "cell_type": "markdown",
   "metadata": {},
   "source": [
    "The above display the words `moes`, `selmas` and `pats` with a bullet point next to each."
   ]
  },
  {
   "cell_type": "markdown",
   "metadata": {},
   "source": [
    "We can also use if else statements with streamlit like the following:"
   ]
  },
  {
   "cell_type": "markdown",
   "metadata": {},
   "source": [
    "```python\n",
    "customers = ['bob', 'fred', 'sam']\n",
    "for customer in customers:\n",
    "    if customer.startswith('f'):\n",
    "        st.write(customer)\n",
    "```"
   ]
  },
  {
   "cell_type": "markdown",
   "metadata": {},
   "source": [
    "This will only display the customer `fred`."
   ]
  },
  {
   "cell_type": "markdown",
   "metadata": {},
   "source": [
    "### Summary"
   ]
  },
  {
   "cell_type": "markdown",
   "metadata": {},
   "source": [
    "In this lesson, we saw how to get started with streamlit.  We saw that with streamlit, we can display text in different forms using the `title`, `header`, `subheader`, and `text` methods.  We also saw that we can format our text with the `st.markdown` method.  And we saw that the `write` method will try to display different types of data like lists.\n",
    "\n",
    "Then we moved into combining Python with our display of streamlit.  We saw that we can intermix loops and if else statements into our code."
   ]
  }
 ],
 "metadata": {
  "kernelspec": {
   "display_name": "Python 3",
   "language": "python",
   "name": "python3"
  },
  "language_info": {
   "codemirror_mode": {
    "name": "ipython",
    "version": 3
   },
   "file_extension": ".py",
   "mimetype": "text/x-python",
   "name": "python",
   "nbconvert_exporter": "python",
   "pygments_lexer": "ipython3",
   "version": "3.7.4"
  }
 },
 "nbformat": 4,
 "nbformat_minor": 4
}
