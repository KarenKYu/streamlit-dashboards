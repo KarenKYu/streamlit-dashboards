{
 "cells": [
  {
   "cell_type": "markdown",
   "metadata": {},
   "source": [
    "# Streamlit Widgets"
   ]
  },
  {
   "cell_type": "markdown",
   "metadata": {},
   "source": [
    "### Introduction "
   ]
  },
  {
   "cell_type": "markdown",
   "metadata": {},
   "source": [
    "In the last lesson, we saw how to work with text in streamlit.  And saw that we can call upon  methods like the following to display text:\n",
    "```python\n",
    "st.title()\n",
    "st.header()\n",
    "st.subheader()\n",
    "st.text()\n",
    "\n",
    "st.write()\n",
    "```"
   ]
  },
  {
   "cell_type": "markdown",
   "metadata": {},
   "source": [
    "In this lesson, we'll see how we can make our applications interactive with widgets."
   ]
  },
  {
   "cell_type": "markdown",
   "metadata": {},
   "source": [
    "### Working with widgets"
   ]
  },
  {
   "cell_type": "markdown",
   "metadata": {},
   "source": [
    "Let's start by creating a search bar."
   ]
  },
  {
   "cell_type": "markdown",
   "metadata": {},
   "source": [
    "```python\n",
    "names = ['fred', 'sam', 'sally']\n",
    "text_input = \"\"\n",
    "search_name = st.text_input(\"\")\n",
    "if st.button(\"Search\"):\n",
    "    search_name = search_name\n",
    "if st.button(\"Clear\"):\n",
    "    search_name = \"\"\n",
    "if search_name:\n",
    "    names = [name for name in names if name.startswith(search_name)]\n",
    "for name in names:\n",
    "    st.markdown(f'* {name}')\n",
    "```"
   ]
  },
  {
   "cell_type": "markdown",
   "metadata": {},
   "source": [
    "Read through the code above before trying it out in streamlit.  Can you guess what it's doing?  Now copy and paste it into the browser to see how it works.  "
   ]
  },
  {
   "cell_type": "markdown",
   "metadata": {},
   "source": [
    "Now copy and paste the code into an `app.py` file, and see how it works."
   ]
  },
  {
   "cell_type": "markdown",
   "metadata": {},
   "source": [
    "### More widgets"
   ]
  },
  {
   "cell_type": "markdown",
   "metadata": {},
   "source": [
    "Here are some more widgets we can use."
   ]
  },
  {
   "cell_type": "markdown",
   "metadata": {},
   "source": [
    "```python\n",
    "if st.checkbox(\"Show/Hide\"):\n",
    "    st.text(\"showiong or hiding widget\")\n",
    "```"
   ]
  },
  {
   "cell_type": "markdown",
   "metadata": {},
   "source": [
    "As we can see the checkbox returns a boolean value, `True` or `False` based on whether or not we have our box checked."
   ]
  },
  {
   "cell_type": "markdown",
   "metadata": {},
   "source": [
    "The others assign the value to whatever is selected."
   ]
  },
  {
   "cell_type": "markdown",
   "metadata": {},
   "source": [
    "```python\n",
    "status = st.radio(\"what is the status\", (\"active\", \"inactive\"))\n",
    "st.write(\"This is your status\", status)\n",
    "occupation = st.selectbox(\"Your occupation\", [\"Programmer\", \"Data Scientist\", \"Businessman\"])\n",
    "st.write(\"You selected this option\", occupation)\n",
    "locations = st.multiselect(\"Where do you work\", (\"London\", \"New York\", \"Accra\"))\n",
    "st.write(\"selected locations:\", locations)\n",
    "```"
   ]
  },
  {
   "cell_type": "markdown",
   "metadata": {},
   "source": [
    "### Summary"
   ]
  },
  {
   "cell_type": "markdown",
   "metadata": {},
   "source": [
    "In this lesson, we saw how we can use widgets in a streamlit application.  Widgets provide a user interface so that a user can assign a value to variable in our program.  And with changing the value, our application can display different outputs."
   ]
  }
 ],
 "metadata": {
  "kernelspec": {
   "display_name": "Python 3",
   "language": "python",
   "name": "python3"
  },
  "language_info": {
   "codemirror_mode": {
    "name": "ipython",
    "version": 3
   },
   "file_extension": ".py",
   "mimetype": "text/x-python",
   "name": "python",
   "nbconvert_exporter": "python",
   "pygments_lexer": "ipython3",
   "version": "3.7.4"
  }
 },
 "nbformat": 4,
 "nbformat_minor": 4
}
