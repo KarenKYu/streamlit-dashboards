{
 "cells": [
  {
   "cell_type": "markdown",
   "metadata": {},
   "source": [
    "# Project Preparation"
   ]
  },
  {
   "cell_type": "markdown",
   "metadata": {},
   "source": [
    "*  Let's get some practice with planning a project"
   ]
  },
  {
   "cell_type": "markdown",
   "metadata": {},
   "source": [
    "#### 1. What music will be a success?\n",
    "\n",
    "* Who could be the various stakeholders to discovering successful music.\n",
    "* Now let's use our  *mutually exclusive, collectively exhaustive* framework to breakdown this problem.\n",
    "    * What are the components of successful music?\n",
    "    * Then make subcomponents.\n",
    "    * Where can we find this information?\n"
   ]
  },
  {
   "cell_type": "markdown",
   "metadata": {},
   "source": [
    "#### 2. Movie Revenue"
   ]
  },
  {
   "cell_type": "markdown",
   "metadata": {},
   "source": [
    "* Who could be the various stakeholders to discovering successful music.\n",
    "* Now let's use our mutually exclusive, collectively exhaustive framework to breakdown this problem.\n",
    "* What are the components of successful music?\n",
    "* Then make subcomponents.\n",
    "* Where can we find this information?"
   ]
  },
  {
   "cell_type": "code",
   "execution_count": null,
   "metadata": {},
   "outputs": [],
   "source": []
  }
 ],
 "metadata": {
  "kernelspec": {
   "display_name": "Python 3",
   "language": "python",
   "name": "python3"
  },
  "language_info": {
   "codemirror_mode": {
    "name": "ipython",
    "version": 3
   },
   "file_extension": ".py",
   "mimetype": "text/x-python",
   "name": "python",
   "nbconvert_exporter": "python",
   "pygments_lexer": "ipython3",
   "version": "3.7.4"
  }
 },
 "nbformat": 4,
 "nbformat_minor": 4
}
