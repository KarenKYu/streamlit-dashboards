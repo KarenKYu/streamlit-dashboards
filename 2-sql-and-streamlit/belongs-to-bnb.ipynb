{
 "cells": [
  {
   "cell_type": "markdown",
   "metadata": {},
   "source": [
    "# Belongs to Airbnb Lab"
   ]
  },
  {
   "cell_type": "markdown",
   "metadata": {},
   "source": [
    "### Introduction\n",
    "In this lab we will continue to explore the relationships between data in different tables of a database. The Airbnb database for this lab contains four tables, `hosts`, `listings`, `locations`, and `neighborhoods`. In order to understand and analyze the data, we need to first understand the relationships between the tables. Relationships include \"Has One\" and \"Has Many\". For example, the `listings` table has a column \"host_id\" which HAS ONE record in hosts table that it corresponds to (a listing will only have one host). The `locations` table has an id column which HAS MANY corresponding records in the `listings` table (a location will have more than one listing). "
   ]
  },
  {
   "cell_type": "markdown",
   "metadata": {},
   "source": [
    "Let's begin by connecting to the database and reviewing the schema of the tables."
   ]
  },
  {
   "cell_type": "markdown",
   "metadata": {},
   "source": [
    "### Loading Data"
   ]
  },
  {
   "cell_type": "code",
   "execution_count": 1,
   "metadata": {},
   "outputs": [],
   "source": [
    "import pandas as pd\n",
    "neighborhoods_url = \"https://raw.githubusercontent.com/jigsawlabs-student/mod-1-sql-curriculum/master/2-sql-relations/3-belongs-to-bnb/neighborhoods.csv\"\n",
    "hosts_url = \"https://raw.githubusercontent.com/jigsawlabs-student/mod-1-sql-curriculum/master/2-sql-relations/3-belongs-to-bnb/hosts.csv\"\n",
    "locations_url = \"https://raw.githubusercontent.com/jigsawlabs-student/mod-1-sql-curriculum/master/2-sql-relations/3-belongs-to-bnb/locations.csv\"\n",
    "listings_url = \"https://raw.githubusercontent.com/jigsawlabs-student/mod-1-sql-curriculum/master/2-sql-relations/3-belongs-to-bnb/listings.csv\"\n",
    "\n",
    "hosts_df = pd.read_csv(hosts_url)\n",
    "neighborhoods_df = pd.read_csv(neighborhoods_url)\n",
    "\n",
    "locations_df = pd.read_csv(locations_url)\n",
    "listings_df = pd.read_csv(listings_url)"
   ]
  },
  {
   "cell_type": "code",
   "execution_count": 2,
   "metadata": {},
   "outputs": [],
   "source": [
    "import sqlite3\n",
    "conn = sqlite3.connect('listings.db')"
   ]
  },
  {
   "cell_type": "code",
   "execution_count": 3,
   "metadata": {},
   "outputs": [],
   "source": [
    "hosts_df.to_sql('hosts',conn, index = False)\n",
    "neighborhoods_df.to_sql('neighborhoods',conn, index = False)\n",
    "locations_df.to_sql('locations',conn, index = False)\n",
    "listings_df.to_sql('listings', conn, index = False)"
   ]
  },
  {
   "cell_type": "markdown",
   "metadata": {},
   "source": [
    "### Exploring Data"
   ]
  },
  {
   "cell_type": "code",
   "execution_count": 5,
   "metadata": {},
   "outputs": [],
   "source": [
    "cursor = conn.cursor()"
   ]
  },
  {
   "cell_type": "code",
   "execution_count": 6,
   "metadata": {},
   "outputs": [
    {
     "data": {
      "text/plain": [
       "[('hosts',), ('neighborhoods',), ('locations',), ('listings',)]"
      ]
     },
     "execution_count": 6,
     "metadata": {},
     "output_type": "execute_result"
    }
   ],
   "source": [
    "cursor.execute('SELECT name from sqlite_master where type= \"table\"')\n",
    "cursor.fetchall()"
   ]
  },
  {
   "cell_type": "code",
   "execution_count": 7,
   "metadata": {},
   "outputs": [
    {
     "data": {
      "text/plain": [
       "[(0, 'id', 'INTEGER', 0, None, 0), (1, 'host_name', 'TEXT', 0, None, 0)]"
      ]
     },
     "execution_count": 7,
     "metadata": {},
     "output_type": "execute_result"
    }
   ],
   "source": [
    "cursor.execute('PRAGMA table_info(hosts)')\n",
    "cursor.fetchall()"
   ]
  },
  {
   "cell_type": "code",
   "execution_count": 8,
   "metadata": {},
   "outputs": [
    {
     "data": {
      "text/plain": [
       "[(0, 'id', 'INTEGER', 0, None, 0),\n",
       " (1, 'name', 'TEXT', 0, None, 0),\n",
       " (2, 'neighbourhood_group', 'TEXT', 0, None, 0)]"
      ]
     },
     "execution_count": 8,
     "metadata": {},
     "output_type": "execute_result"
    }
   ],
   "source": [
    "cursor.execute('PRAGMA table_info(neighborhoods)')\n",
    "cursor.fetchall()"
   ]
  },
  {
   "cell_type": "code",
   "execution_count": 9,
   "metadata": {},
   "outputs": [
    {
     "data": {
      "text/plain": [
       "[(0, 'id', 'INTEGER', 0, None, 0),\n",
       " (1, 'longitude', 'REAL', 0, None, 0),\n",
       " (2, 'latitude', 'REAL', 0, None, 0),\n",
       " (3, 'neighborhood_id', 'INTEGER', 0, None, 0)]"
      ]
     },
     "execution_count": 9,
     "metadata": {},
     "output_type": "execute_result"
    }
   ],
   "source": [
    "cursor.execute('PRAGMA table_info(locations)')\n",
    "cursor.fetchall()"
   ]
  },
  {
   "cell_type": "code",
   "execution_count": 10,
   "metadata": {},
   "outputs": [
    {
     "data": {
      "text/plain": [
       "[(0, 'id', 'INTEGER', 0, None, 0),\n",
       " (1, 'name', 'TEXT', 0, None, 0),\n",
       " (2, 'host_id', 'INTEGER', 0, None, 0),\n",
       " (3, 'location_id', 'INTEGER', 0, None, 0),\n",
       " (4, 'number_of_reviews', 'INTEGER', 0, None, 0),\n",
       " (5, 'occupancy', 'INTEGER', 0, None, 0),\n",
       " (6, 'price', 'INTEGER', 0, None, 0),\n",
       " (7, 'room_type', 'TEXT', 0, None, 0),\n",
       " (8, 'host_listings_count', 'INTEGER', 0, None, 0)]"
      ]
     },
     "execution_count": 10,
     "metadata": {},
     "output_type": "execute_result"
    }
   ],
   "source": [
    "cursor.execute('PRAGMA table_info(listings)')\n",
    "cursor.fetchall()"
   ]
  },
  {
   "cell_type": "markdown",
   "metadata": {},
   "source": [
    "### Incorporating Streamlit"
   ]
  },
  {
   "cell_type": "code",
   "execution_count": 11,
   "metadata": {},
   "outputs": [],
   "source": [
    "import streamlit as st"
   ]
  },
  {
   "cell_type": "code",
   "execution_count": null,
   "metadata": {},
   "outputs": [],
   "source": [
    "st.slider()"
   ]
  },
  {
   "cell_type": "code",
   "execution_count": 14,
   "metadata": {},
   "outputs": [],
   "source": []
  },
  {
   "cell_type": "code",
   "execution_count": 16,
   "metadata": {},
   "outputs": [],
   "source": [
    "records = pd.read_sql(\"SELECT name FROM neighborhoods\", conn).to_dict('records')\n",
    "neighborhoods = [record['name'] for record in records]"
   ]
  },
  {
   "cell_type": "markdown",
   "metadata": {},
   "source": [
    "We'll start off with some basic one table queries:"
   ]
  },
  {
   "cell_type": "code",
   "execution_count": 17,
   "metadata": {},
   "outputs": [],
   "source": [
    "records = pd.read_sql(\"SELECT name FROM neighborhoods ORDER BY name\", conn).to_dict('records')\n",
    "neighborhoods = [record['name'] for record in records]"
   ]
  },
  {
   "cell_type": "code",
   "execution_count": 20,
   "metadata": {},
   "outputs": [
    {
     "data": {
      "text/plain": [
       "('Allerton',\n",
       " 'Arden Heights',\n",
       " 'Arrochar',\n",
       " 'Arverne',\n",
       " 'Astoria',\n",
       " 'Bath Beach',\n",
       " 'Battery Park City',\n",
       " 'Bay Ridge',\n",
       " 'Bay Terrace',\n",
       " 'Bay Terrace, Staten Island',\n",
       " 'Baychester',\n",
       " 'Bayside',\n",
       " 'Bayswater',\n",
       " 'Bedford-Stuyvesant',\n",
       " 'Belle Harbor',\n",
       " 'Bellerose',\n",
       " 'Belmont',\n",
       " 'Bensonhurst',\n",
       " 'Bergen Beach',\n",
       " 'Boerum Hill',\n",
       " 'Borough Park',\n",
       " 'Breezy Point',\n",
       " 'Briarwood',\n",
       " 'Brighton Beach',\n",
       " 'Bronxdale',\n",
       " 'Brooklyn Heights',\n",
       " 'Brownsville',\n",
       " \"Bull's Head\",\n",
       " 'Bushwick',\n",
       " 'Cambria Heights',\n",
       " 'Canarsie',\n",
       " 'Carroll Gardens',\n",
       " 'Castle Hill',\n",
       " 'Castleton Corners',\n",
       " 'Chelsea',\n",
       " 'Chinatown',\n",
       " 'City Island',\n",
       " 'Civic Center',\n",
       " 'Claremont Village',\n",
       " 'Clason Point',\n",
       " 'Clifton',\n",
       " 'Clinton Hill',\n",
       " 'Co-op City',\n",
       " 'Cobble Hill',\n",
       " 'College Point',\n",
       " 'Columbia St',\n",
       " 'Concord',\n",
       " 'Concourse',\n",
       " 'Concourse Village',\n",
       " 'Coney Island',\n",
       " 'Corona',\n",
       " 'Crown Heights',\n",
       " 'Cypress Hills',\n",
       " 'DUMBO',\n",
       " 'Ditmars Steinway',\n",
       " 'Dongan Hills',\n",
       " 'Douglaston',\n",
       " 'Downtown Brooklyn',\n",
       " 'Dyker Heights',\n",
       " 'East Elmhurst',\n",
       " 'East Flatbush',\n",
       " 'East Harlem',\n",
       " 'East Morrisania',\n",
       " 'East New York',\n",
       " 'East Village',\n",
       " 'Eastchester',\n",
       " 'Edenwald',\n",
       " 'Edgemere',\n",
       " 'Elmhurst',\n",
       " 'Eltingville',\n",
       " 'Emerson Hill',\n",
       " 'Far Rockaway',\n",
       " 'Fieldston',\n",
       " 'Financial District',\n",
       " 'Flatbush',\n",
       " 'Flatiron District',\n",
       " 'Flatlands',\n",
       " 'Flushing',\n",
       " 'Fordham',\n",
       " 'Forest Hills',\n",
       " 'Fort Greene',\n",
       " 'Fort Hamilton',\n",
       " 'Fort Wadsworth',\n",
       " 'Fresh Meadows',\n",
       " 'Glendale',\n",
       " 'Gowanus',\n",
       " 'Gramercy',\n",
       " 'Graniteville',\n",
       " 'Grant City',\n",
       " 'Gravesend',\n",
       " 'Great Kills',\n",
       " 'Greenpoint',\n",
       " 'Greenwich Village',\n",
       " 'Grymes Hill',\n",
       " 'Harlem',\n",
       " \"Hell's Kitchen\",\n",
       " 'Highbridge',\n",
       " 'Hollis',\n",
       " 'Holliswood',\n",
       " 'Howard Beach',\n",
       " 'Howland Hook',\n",
       " 'Huguenot',\n",
       " 'Hunts Point',\n",
       " 'Inwood',\n",
       " 'Jackson Heights',\n",
       " 'Jamaica',\n",
       " 'Jamaica Estates',\n",
       " 'Jamaica Hills',\n",
       " 'Kensington',\n",
       " 'Kew Gardens',\n",
       " 'Kew Gardens Hills',\n",
       " 'Kingsbridge',\n",
       " 'Kips Bay',\n",
       " 'Laurelton',\n",
       " 'Lighthouse Hill',\n",
       " 'Little Italy',\n",
       " 'Little Neck',\n",
       " 'Long Island City',\n",
       " 'Longwood',\n",
       " 'Lower East Side',\n",
       " 'Manhattan Beach',\n",
       " 'Marble Hill',\n",
       " 'Mariners Harbor',\n",
       " 'Maspeth',\n",
       " 'Melrose',\n",
       " 'Middle Village',\n",
       " 'Midland Beach',\n",
       " 'Midtown',\n",
       " 'Midwood',\n",
       " 'Mill Basin',\n",
       " 'Morningside Heights',\n",
       " 'Morris Heights',\n",
       " 'Morris Park',\n",
       " 'Morrisania',\n",
       " 'Mott Haven',\n",
       " 'Mount Eden',\n",
       " 'Mount Hope',\n",
       " 'Murray Hill',\n",
       " 'Navy Yard',\n",
       " 'Neponsit',\n",
       " 'New Brighton',\n",
       " 'New Dorp',\n",
       " 'New Dorp Beach',\n",
       " 'New Springville',\n",
       " 'NoHo',\n",
       " 'Nolita',\n",
       " 'North Riverdale',\n",
       " 'Norwood',\n",
       " 'Oakwood',\n",
       " 'Olinville',\n",
       " 'Ozone Park',\n",
       " 'Park Slope',\n",
       " 'Parkchester',\n",
       " 'Pelham Bay',\n",
       " 'Pelham Gardens',\n",
       " 'Port Morris',\n",
       " 'Port Richmond',\n",
       " \"Prince's Bay\",\n",
       " 'Prospect Heights',\n",
       " 'Prospect-Lefferts Gardens',\n",
       " 'Queens Village',\n",
       " 'Randall Manor',\n",
       " 'Red Hook',\n",
       " 'Rego Park',\n",
       " 'Richmond Hill',\n",
       " 'Richmondtown',\n",
       " 'Ridgewood',\n",
       " 'Riverdale',\n",
       " 'Rockaway Beach',\n",
       " 'Roosevelt Island',\n",
       " 'Rosebank',\n",
       " 'Rosedale',\n",
       " 'Rossville',\n",
       " 'Schuylerville',\n",
       " 'Sea Gate',\n",
       " 'Sheepshead Bay',\n",
       " 'Shore Acres',\n",
       " 'Silver Lake',\n",
       " 'SoHo',\n",
       " 'Soundview',\n",
       " 'South Beach',\n",
       " 'South Ozone Park',\n",
       " 'South Slope',\n",
       " 'Springfield Gardens',\n",
       " 'Spuyten Duyvil',\n",
       " 'St. Albans',\n",
       " 'St. George',\n",
       " 'Stapleton',\n",
       " 'Stuyvesant Town',\n",
       " 'Sunnyside',\n",
       " 'Sunset Park',\n",
       " 'Theater District',\n",
       " 'Throgs Neck',\n",
       " 'Todt Hill',\n",
       " 'Tompkinsville',\n",
       " 'Tottenville',\n",
       " 'Tremont',\n",
       " 'Tribeca',\n",
       " 'Two Bridges',\n",
       " 'Unionport',\n",
       " 'University Heights',\n",
       " 'Upper East Side',\n",
       " 'Upper West Side',\n",
       " 'Van Nest',\n",
       " 'Vinegar Hill',\n",
       " 'Wakefield',\n",
       " 'Washington Heights',\n",
       " 'West Brighton',\n",
       " 'West Farms',\n",
       " 'West Village',\n",
       " 'Westchester Square',\n",
       " 'Westerleigh',\n",
       " 'Whitestone',\n",
       " 'Williamsbridge',\n",
       " 'Williamsburg',\n",
       " 'Willowbrook',\n",
       " 'Windsor Terrace',\n",
       " 'Woodhaven',\n",
       " 'Woodlawn',\n",
       " 'Woodrow',\n",
       " 'Woodside')"
      ]
     },
     "execution_count": 20,
     "metadata": {},
     "output_type": "execute_result"
    }
   ],
   "source": []
  },
  {
   "cell_type": "markdown",
   "metadata": {},
   "source": [
    "* Which listing name has the highest price?"
   ]
  },
  {
   "cell_type": "code",
   "execution_count": null,
   "metadata": {},
   "outputs": [],
   "source": []
  },
  {
   "cell_type": "markdown",
   "metadata": {},
   "source": [
    "* What is the id of the location with the lowest longitude?"
   ]
  },
  {
   "cell_type": "code",
   "execution_count": null,
   "metadata": {},
   "outputs": [],
   "source": []
  },
  {
   "cell_type": "markdown",
   "metadata": {},
   "source": [
    "* What is the greatest occupancy of a listing?"
   ]
  },
  {
   "cell_type": "code",
   "execution_count": null,
   "metadata": {},
   "outputs": [],
   "source": []
  },
  {
   "cell_type": "markdown",
   "metadata": {},
   "source": [
    "* What is the average price of a listing?"
   ]
  },
  {
   "cell_type": "code",
   "execution_count": null,
   "metadata": {},
   "outputs": [],
   "source": []
  },
  {
   "cell_type": "markdown",
   "metadata": {},
   "source": [
    "* What is the count of number of hosts?"
   ]
  },
  {
   "cell_type": "code",
   "execution_count": null,
   "metadata": {},
   "outputs": [],
   "source": []
  },
  {
   "cell_type": "markdown",
   "metadata": {},
   "source": [
    "### Relationships\n",
    "To help us better understand the relationships, create queries below that JOIN the tables. "
   ]
  },
  {
   "cell_type": "markdown",
   "metadata": {},
   "source": [
    "Have them map out the relationships "
   ]
  },
  {
   "cell_type": "markdown",
   "metadata": {},
   "source": [
    "*  host\n",
    "    * include the host name, and host id\n",
    "    \n",
    "* A location belongs to a neighborhoods \n",
    "    * neighborhood_id, latitude, longitude\n",
    "* A neighborhood belongs to a neighborhood group\n",
    "\n",
    "* listing \n",
    "    * name, host_id, location_id, room_type, price, occupancy"
   ]
  },
  {
   "cell_type": "markdown",
   "metadata": {},
   "source": [
    "### JOINs"
   ]
  },
  {
   "cell_type": "markdown",
   "metadata": {},
   "source": [
    "For the following queries, use the relationships between the tables to find the solutions"
   ]
  },
  {
   "cell_type": "markdown",
   "metadata": {},
   "source": [
    "* What is the longitude and latitude of the listing of the highest price?"
   ]
  },
  {
   "cell_type": "code",
   "execution_count": null,
   "metadata": {},
   "outputs": [],
   "source": []
  },
  {
   "cell_type": "markdown",
   "metadata": {},
   "source": [
    "* What is the neighborhood id of the listing with the lowest price?"
   ]
  },
  {
   "cell_type": "code",
   "execution_count": null,
   "metadata": {},
   "outputs": [],
   "source": []
  },
  {
   "cell_type": "markdown",
   "metadata": {},
   "source": [
    "* What is the longitude and latitude of the listing of the lowest price?"
   ]
  },
  {
   "cell_type": "code",
   "execution_count": null,
   "metadata": {},
   "outputs": [],
   "source": []
  },
  {
   "cell_type": "markdown",
   "metadata": {},
   "source": [
    "### Relations and GROUP BY"
   ]
  },
  {
   "cell_type": "markdown",
   "metadata": {},
   "source": [
    "* What is the name of the host has the most number of reviews?"
   ]
  },
  {
   "cell_type": "code",
   "execution_count": null,
   "metadata": {},
   "outputs": [],
   "source": []
  },
  {
   "cell_type": "markdown",
   "metadata": {},
   "source": [
    "* What is the name of the host with the highest average listing price?"
   ]
  },
  {
   "cell_type": "code",
   "execution_count": null,
   "metadata": {},
   "outputs": [],
   "source": []
  },
  {
   "cell_type": "markdown",
   "metadata": {},
   "source": [
    "* What is the name of the host with the lowest average listing price?"
   ]
  },
  {
   "cell_type": "code",
   "execution_count": null,
   "metadata": {},
   "outputs": [],
   "source": []
  },
  {
   "cell_type": "markdown",
   "metadata": {},
   "source": [
    "* What is the name of the neighborhood with the most number of locations"
   ]
  },
  {
   "cell_type": "code",
   "execution_count": null,
   "metadata": {},
   "outputs": [],
   "source": []
  },
  {
   "cell_type": "markdown",
   "metadata": {},
   "source": [
    "* What are the names of the neighborhoods with 10 locations?"
   ]
  },
  {
   "cell_type": "code",
   "execution_count": null,
   "metadata": {},
   "outputs": [],
   "source": []
  },
  {
   "cell_type": "markdown",
   "metadata": {},
   "source": [
    "The following questions will require joins of three tables"
   ]
  },
  {
   "cell_type": "markdown",
   "metadata": {},
   "source": [
    "* What is the average occupancy of each neighborhood?"
   ]
  },
  {
   "cell_type": "code",
   "execution_count": null,
   "metadata": {},
   "outputs": [],
   "source": []
  },
  {
   "cell_type": "markdown",
   "metadata": {},
   "source": [
    "* What is the total number of reviews for each neighborhood?"
   ]
  },
  {
   "cell_type": "code",
   "execution_count": null,
   "metadata": {},
   "outputs": [],
   "source": []
  },
  {
   "cell_type": "markdown",
   "metadata": {},
   "source": [
    "* Write a query that returns the name and average listing price of each neighborhood"
   ]
  },
  {
   "cell_type": "code",
   "execution_count": null,
   "metadata": {},
   "outputs": [],
   "source": []
  },
  {
   "cell_type": "markdown",
   "metadata": {},
   "source": [
    "### Conclusion\n",
    "In this lab we worked on the \"Has One\" and \"Has Many\" relations in SQL. We began by mapping out the relations between the tables, which gave us a better idea of how we could then join them in our queries. We finished the lab by creating queries using JOIN clauses that connect the tables using these relationships."
   ]
  },
  {
   "cell_type": "code",
   "execution_count": null,
   "metadata": {},
   "outputs": [],
   "source": []
  }
 ],
 "metadata": {
  "kernelspec": {
   "display_name": "Python 3",
   "language": "python",
   "name": "python3"
  },
  "language_info": {
   "codemirror_mode": {
    "name": "ipython",
    "version": 3
   },
   "file_extension": ".py",
   "mimetype": "text/x-python",
   "name": "python",
   "nbconvert_exporter": "python",
   "pygments_lexer": "ipython3",
   "version": "3.7.4"
  }
 },
 "nbformat": 4,
 "nbformat_minor": 4
}
