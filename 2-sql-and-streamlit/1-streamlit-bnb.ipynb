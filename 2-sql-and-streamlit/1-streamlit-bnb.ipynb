{
 "cells": [
  {
   "cell_type": "markdown",
   "metadata": {},
   "source": [
    "# AirBnb NYC"
   ]
  },
  {
   "cell_type": "markdown",
   "metadata": {},
   "source": [
    "### Introduction"
   ]
  },
  {
   "cell_type": "markdown",
   "metadata": {},
   "source": [
    "In this lesson, we'll practice our use of SQL and integrating it with streamlit."
   ]
  },
  {
   "cell_type": "markdown",
   "metadata": {},
   "source": [
    "### Loading the Data"
   ]
  },
  {
   "cell_type": "code",
   "execution_count": 14,
   "metadata": {},
   "outputs": [],
   "source": [
    "import pandas as pd\n",
    "neighborhoods_url = \"https://raw.githubusercontent.com/jigsawlabs-student/mod-1-sql-curriculum/master/2-sql-relations/3-belongs-to-bnb/neighborhoods.csv\"\n",
    "hosts_url = \"https://raw.githubusercontent.com/jigsawlabs-student/mod-1-sql-curriculum/master/2-sql-relations/3-belongs-to-bnb/hosts.csv\"\n",
    "locations_url = \"https://raw.githubusercontent.com/jigsawlabs-student/mod-1-sql-curriculum/master/2-sql-relations/3-belongs-to-bnb/locations.csv\"\n",
    "listings_url = \"https://raw.githubusercontent.com/jigsawlabs-student/mod-1-sql-curriculum/master/2-sql-relations/3-belongs-to-bnb/listings.csv\"\n",
    "\n",
    "hosts_df = pd.read_csv(hosts_url)\n",
    "neighborhoods_df = pd.read_csv(neighborhoods_url)\n",
    "\n",
    "locations_df = pd.read_csv(locations_url)\n",
    "listings_df = pd.read_csv(listings_url)"
   ]
  },
  {
   "cell_type": "code",
   "execution_count": 15,
   "metadata": {},
   "outputs": [],
   "source": [
    "import sqlite3\n",
    "conn = sqlite3.connect('listings.db')"
   ]
  },
  {
   "cell_type": "code",
   "execution_count": 17,
   "metadata": {},
   "outputs": [],
   "source": [
    "hosts_df.to_sql('hosts',conn, index = False)\n",
    "neighborhoods_df.to_sql('neighborhoods',conn, index = False)\n",
    "locations_df.to_sql('locations',conn, index = False)\n",
    "listings_df.to_sql('listings', conn, index = False)"
   ]
  },
  {
   "cell_type": "markdown",
   "metadata": {},
   "source": [
    "## Getting Reacquainted with the Data"
   ]
  },
  {
   "cell_type": "code",
   "execution_count": 5,
   "metadata": {},
   "outputs": [],
   "source": [
    "cursor = conn.cursor()"
   ]
  },
  {
   "cell_type": "code",
   "execution_count": 6,
   "metadata": {},
   "outputs": [
    {
     "data": {
      "text/plain": [
       "[('hosts',), ('neighborhoods',), ('locations',), ('listings',)]"
      ]
     },
     "execution_count": 6,
     "metadata": {},
     "output_type": "execute_result"
    }
   ],
   "source": [
    "cursor.execute('SELECT name from sqlite_master where type= \"table\"')\n",
    "cursor.fetchall()"
   ]
  },
  {
   "cell_type": "code",
   "execution_count": 7,
   "metadata": {},
   "outputs": [
    {
     "data": {
      "text/plain": [
       "[(0, 'id', 'INTEGER', 0, None, 0), (1, 'host_name', 'TEXT', 0, None, 0)]"
      ]
     },
     "execution_count": 7,
     "metadata": {},
     "output_type": "execute_result"
    }
   ],
   "source": [
    "cursor.execute('PRAGMA table_info(hosts)')\n",
    "cursor.fetchall()"
   ]
  },
  {
   "cell_type": "code",
   "execution_count": 8,
   "metadata": {},
   "outputs": [
    {
     "data": {
      "text/plain": [
       "[(0, 'id', 'INTEGER', 0, None, 0),\n",
       " (1, 'name', 'TEXT', 0, None, 0),\n",
       " (2, 'neighbourhood_group', 'TEXT', 0, None, 0)]"
      ]
     },
     "execution_count": 8,
     "metadata": {},
     "output_type": "execute_result"
    }
   ],
   "source": [
    "cursor.execute('PRAGMA table_info(neighborhoods)')\n",
    "cursor.fetchall()"
   ]
  },
  {
   "cell_type": "code",
   "execution_count": 9,
   "metadata": {},
   "outputs": [
    {
     "data": {
      "text/plain": [
       "[(0, 'id', 'INTEGER', 0, None, 0),\n",
       " (1, 'longitude', 'REAL', 0, None, 0),\n",
       " (2, 'latitude', 'REAL', 0, None, 0),\n",
       " (3, 'neighborhood_id', 'INTEGER', 0, None, 0)]"
      ]
     },
     "execution_count": 9,
     "metadata": {},
     "output_type": "execute_result"
    }
   ],
   "source": [
    "cursor.execute('PRAGMA table_info(locations)')\n",
    "cursor.fetchall()"
   ]
  },
  {
   "cell_type": "code",
   "execution_count": 10,
   "metadata": {},
   "outputs": [
    {
     "data": {
      "text/plain": [
       "[(0, 'id', 'INTEGER', 0, None, 0),\n",
       " (1, 'name', 'TEXT', 0, None, 0),\n",
       " (2, 'host_id', 'INTEGER', 0, None, 0),\n",
       " (3, 'location_id', 'INTEGER', 0, None, 0),\n",
       " (4, 'number_of_reviews', 'INTEGER', 0, None, 0),\n",
       " (5, 'occupancy', 'INTEGER', 0, None, 0),\n",
       " (6, 'price', 'INTEGER', 0, None, 0),\n",
       " (7, 'room_type', 'TEXT', 0, None, 0),\n",
       " (8, 'host_listings_count', 'INTEGER', 0, None, 0)]"
      ]
     },
     "execution_count": 10,
     "metadata": {},
     "output_type": "execute_result"
    }
   ],
   "source": [
    "cursor.execute('PRAGMA table_info(listings)')\n",
    "cursor.fetchall()"
   ]
  },
  {
   "cell_type": "markdown",
   "metadata": {},
   "source": [
    "### Starting up streamlit"
   ]
  },
  {
   "cell_type": "markdown",
   "metadata": {},
   "source": [
    "Ok, now it's time to begin with our streamlit app."
   ]
  },
  {
   "cell_type": "markdown",
   "metadata": {},
   "source": [
    "* Adding text"
   ]
  },
  {
   "cell_type": "markdown",
   "metadata": {},
   "source": [
    "Start by creating an `app.py` file, and then add the title `Airbnb Explorer` to the top of our dashboard."
   ]
  },
  {
   "cell_type": "markdown",
   "metadata": {},
   "source": [
    "### Baseline Widgets"
   ]
  },
  {
   "cell_type": "markdown",
   "metadata": {},
   "source": [
    "Now let's create some widgets that will allow users to interact with our page."
   ]
  },
  {
   "cell_type": "markdown",
   "metadata": {},
   "source": [
    "1. Start by adding two sliders to the page: \n",
    "* one slider to eventually select locations below a max price and \n",
    "* one slider will select locations above a minimum price."
   ]
  },
  {
   "cell_type": "markdown",
   "metadata": {},
   "source": [
    "The two sliders should allow us to slide between the range of 20 and 1000, moving in increments of 25."
   ]
  },
  {
   "cell_type": "markdown",
   "metadata": {},
   "source": [
    "> Tip: Feel free to first explore widgets inside of a Jupyter notebook and then move them over to the `app.py` file.  Remember we can press `shift + tab` to see the arguments that a function accepts.  The display of the widget, however, will not work until you move the widget over to the app.py file."
   ]
  },
  {
   "cell_type": "code",
   "execution_count": 6,
   "metadata": {},
   "outputs": [],
   "source": [
    "import streamlit as st"
   ]
  },
  {
   "cell_type": "code",
   "execution_count": 7,
   "metadata": {},
   "outputs": [
    {
     "data": {
      "text/plain": [
       "0"
      ]
     },
     "execution_count": 7,
     "metadata": {},
     "output_type": "execute_result"
    }
   ],
   "source": [
    "st.slider('slider')"
   ]
  },
  {
   "cell_type": "markdown",
   "metadata": {},
   "source": [
    "When done, you should see something like the following on the page."
   ]
  },
  {
   "cell_type": "markdown",
   "metadata": {},
   "source": [
    "<img src=\"updated-sliders.png\" width = \"30%\">"
   ]
  },
  {
   "cell_type": "markdown",
   "metadata": {},
   "source": [
    "2. Next let's add a multiselect to eventually allow us to filter by neighborhoods."
   ]
  },
  {
   "cell_type": "markdown",
   "metadata": {},
   "source": [
    "The multiselect requires a list of options, we can just provide some mock neighborhood options for now and fill it in with real data later.  \n",
    "\n",
    "> For example, fill the options with the elements of `manhattan` and `brooklyn`."
   ]
  },
  {
   "cell_type": "code",
   "execution_count": 9,
   "metadata": {},
   "outputs": [],
   "source": [
    "# st.multiselect()"
   ]
  },
  {
   "cell_type": "markdown",
   "metadata": {},
   "source": [
    "When done, you should see something like the following."
   ]
  },
  {
   "cell_type": "markdown",
   "metadata": {},
   "source": [
    "<img src=\"./select-neighborhoods.png\" width=\"50%\">"
   ]
  },
  {
   "cell_type": "markdown",
   "metadata": {},
   "source": [
    "3. Finally move all of these wigets over to a sidebar."
   ]
  },
  {
   "cell_type": "markdown",
   "metadata": {},
   "source": [
    "<img src=\"updated-sidebar.png\" width=\"30%\">"
   ]
  },
  {
   "cell_type": "markdown",
   "metadata": {},
   "source": [
    "### Combining SQL"
   ]
  },
  {
   "cell_type": "markdown",
   "metadata": {},
   "source": [
    "Ok, now let's begin to incorporate the use of data from our database. "
   ]
  },
  {
   "cell_type": "markdown",
   "metadata": {},
   "source": [
    "1. Populating with real neighborhoods."
   ]
  },
  {
   "cell_type": "markdown",
   "metadata": {},
   "source": [
    "In this Jupyter notebook, start by creating a function called find all `all_neighborhoods` that returns a list of all of the neighborhoods."
   ]
  },
  {
   "cell_type": "code",
   "execution_count": 151,
   "metadata": {},
   "outputs": [],
   "source": [
    "import pandas as pd\n",
    "def all_neighborhoods():\n",
    "#     records = pd.read_sql(\"ADD SQL CALL HERE\", conn).to_dict('records')\n",
    "    neighborhoods = None # fill in here\n",
    "    return neighborhoods"
   ]
  },
  {
   "cell_type": "code",
   "execution_count": 152,
   "metadata": {},
   "outputs": [],
   "source": [
    "neighborhoods = all_neighborhoods()"
   ]
  },
  {
   "cell_type": "code",
   "execution_count": null,
   "metadata": {},
   "outputs": [],
   "source": [
    "neighborhoods[:3]\n",
    "# ['Allerton', 'Arden Heights', 'Arrochar']"
   ]
  },
  {
   "cell_type": "code",
   "execution_count": 21,
   "metadata": {},
   "outputs": [
    {
     "data": {
      "text/plain": [
       "221"
      ]
     },
     "execution_count": 21,
     "metadata": {},
     "output_type": "execute_result"
    }
   ],
   "source": [
    "len(neighborhoods)"
   ]
  },
  {
   "cell_type": "markdown",
   "metadata": {},
   "source": [
    "> Once this is working, move the `all_neighborhoods` method over to the `app.py` file.  And then execute it and assign the result to the variable neighborhoods.  Use this to list the neighborhoods in the multiselect."
   ]
  },
  {
   "cell_type": "markdown",
   "metadata": {},
   "source": [
    "> To accomplish this, you will likely need to import libraries like `sqlite3`, `pandas`, and form a connection to your `airbnb.db` database."
   ]
  },
  {
   "cell_type": "markdown",
   "metadata": {},
   "source": [
    "2. Adding a map"
   ]
  },
  {
   "cell_type": "markdown",
   "metadata": {},
   "source": [
    "We can add a map to streamlit with the `st.map` function.  To do so, we need a pandas dataframe with a column of longitude and latitude.  We can do so with the `read_sql` function from pandas.  Use the function to select all of the locations, and assign them to the variable `locations_df`."
   ]
  },
  {
   "cell_type": "code",
   "execution_count": 154,
   "metadata": {},
   "outputs": [],
   "source": [
    "# Fill in the string with the correct sql call\n",
    "def find_locations():\n",
    "    pass\n",
    "#     return pd.read_sql('', conn)"
   ]
  },
  {
   "cell_type": "code",
   "execution_count": null,
   "metadata": {},
   "outputs": [],
   "source": [
    "locations_df = find_locations()"
   ]
  },
  {
   "cell_type": "code",
   "execution_count": 24,
   "metadata": {},
   "outputs": [
    {
     "data": {
      "text/html": [
       "<div>\n",
       "<style scoped>\n",
       "    .dataframe tbody tr th:only-of-type {\n",
       "        vertical-align: middle;\n",
       "    }\n",
       "\n",
       "    .dataframe tbody tr th {\n",
       "        vertical-align: top;\n",
       "    }\n",
       "\n",
       "    .dataframe thead th {\n",
       "        text-align: right;\n",
       "    }\n",
       "</style>\n",
       "<table border=\"1\" class=\"dataframe\">\n",
       "  <thead>\n",
       "    <tr style=\"text-align: right;\">\n",
       "      <th></th>\n",
       "      <th>id</th>\n",
       "      <th>longitude</th>\n",
       "      <th>latitude</th>\n",
       "      <th>neighborhood_id</th>\n",
       "    </tr>\n",
       "  </thead>\n",
       "  <tbody>\n",
       "    <tr>\n",
       "      <th>0</th>\n",
       "      <td>0</td>\n",
       "      <td>-73.97237</td>\n",
       "      <td>40.64749</td>\n",
       "      <td>0</td>\n",
       "    </tr>\n",
       "    <tr>\n",
       "      <th>1</th>\n",
       "      <td>1</td>\n",
       "      <td>-73.98377</td>\n",
       "      <td>40.75362</td>\n",
       "      <td>1</td>\n",
       "    </tr>\n",
       "    <tr>\n",
       "      <th>2</th>\n",
       "      <td>2</td>\n",
       "      <td>-73.94190</td>\n",
       "      <td>40.80902</td>\n",
       "      <td>2</td>\n",
       "    </tr>\n",
       "  </tbody>\n",
       "</table>\n",
       "</div>"
      ],
      "text/plain": [
       "   id  longitude  latitude  neighborhood_id\n",
       "0   0  -73.97237  40.64749                0\n",
       "1   1  -73.98377  40.75362                1\n",
       "2   2  -73.94190  40.80902                2"
      ]
     },
     "execution_count": 24,
     "metadata": {},
     "output_type": "execute_result"
    }
   ],
   "source": [
    "locations_df[:3]\n",
    "\n",
    "# \tid\tlongitude\tlatitude\tneighborhood_id\n",
    "# 0\t0\t-73.97237\t40.64749\t0\n",
    "# 1\t1\t-73.98377\t40.75362\t1\n",
    "# 2\t2\t-73.94190\t40.80902\t2"
   ]
  },
  {
   "cell_type": "markdown",
   "metadata": {},
   "source": [
    "Next check that this works by passing our `locations_df` into the st.map function."
   ]
  },
  {
   "cell_type": "code",
   "execution_count": 25,
   "metadata": {},
   "outputs": [
    {
     "data": {
      "text/plain": [
       "<streamlit.DeltaGenerator.DeltaGenerator at 0x110cb1610>"
      ]
     },
     "execution_count": 25,
     "metadata": {},
     "output_type": "execute_result"
    }
   ],
   "source": [
    "st.map(locations_df)\n",
    "# <streamlit.DeltaGenerator.DeltaGenerator at 0x110cb1610>"
   ]
  },
  {
   "cell_type": "markdown",
   "metadata": {},
   "source": [
    "Finally, inside of the `app.py` file, let's move the `find_locations` method and provide `st.map` with a dataframe of the locations."
   ]
  },
  {
   "cell_type": "markdown",
   "metadata": {},
   "source": [
    "When complete, you should see something like the following:"
   ]
  },
  {
   "cell_type": "markdown",
   "metadata": {},
   "source": [
    "<img src=\"./bnb-map.png\" width=\"50%\">"
   ]
  },
  {
   "cell_type": "markdown",
   "metadata": {},
   "source": [
    "### Dynamic SQL Calls"
   ]
  },
  {
   "cell_type": "markdown",
   "metadata": {},
   "source": [
    "Ok, now the above shows a map of all of the locations in Airbnb. But what we would like is the ability to select just some of them based on our widgets.  \n",
    "\n",
    "Let's start with our max and min price calls."
   ]
  },
  {
   "cell_type": "markdown",
   "metadata": {},
   "source": [
    "Rewrite the `find_locations` function below so that it takes arguments of `min_price` and `max_price`.  Our function should be written so that min price has a default argument of `'0'` and `max_price` has a default argument of `'5000'`.  Then write a sql function that returns those locations with an average listing price between the max_price and min_price (provided by the function)."
   ]
  },
  {
   "cell_type": "code",
   "execution_count": 156,
   "metadata": {},
   "outputs": [],
   "source": [
    "def find_locations(min_price = '0', max_price = '5000'):\n",
    "    pass"
   ]
  },
  {
   "cell_type": "code",
   "execution_count": 157,
   "metadata": {},
   "outputs": [],
   "source": [
    "locations_avg_df = find_locations()"
   ]
  },
  {
   "cell_type": "code",
   "execution_count": 159,
   "metadata": {},
   "outputs": [],
   "source": [
    "locations_avg_df[:3]\n",
    "\n",
    "# id\tlongitude\tlatitude\tneighborhood_id\tavg_price\n",
    "# 0\t0\t-73.97237\t40.64749\t0\t149.0\n",
    "# 1\t1\t-73.98377\t40.75362\t1\t225.0\n",
    "# 2\t2\t-73.94190\t40.80902\t2\t150.0"
   ]
  },
  {
   "cell_type": "code",
   "execution_count": 160,
   "metadata": {},
   "outputs": [],
   "source": [
    "locations_avg_df.shape\n",
    "# (48834, 5)"
   ]
  },
  {
   "cell_type": "markdown",
   "metadata": {},
   "source": [
    "Now let's make sure that this also works with when we provide different values to our function."
   ]
  },
  {
   "cell_type": "code",
   "execution_count": 40,
   "metadata": {},
   "outputs": [],
   "source": [
    "locations_range_df = find_locations(300, 500)"
   ]
  },
  {
   "cell_type": "code",
   "execution_count": 42,
   "metadata": {},
   "outputs": [
    {
     "data": {
      "text/html": [
       "<div>\n",
       "<style scoped>\n",
       "    .dataframe tbody tr th:only-of-type {\n",
       "        vertical-align: middle;\n",
       "    }\n",
       "\n",
       "    .dataframe tbody tr th {\n",
       "        vertical-align: top;\n",
       "    }\n",
       "\n",
       "    .dataframe thead th {\n",
       "        text-align: right;\n",
       "    }\n",
       "</style>\n",
       "<table border=\"1\" class=\"dataframe\">\n",
       "  <thead>\n",
       "    <tr style=\"text-align: right;\">\n",
       "      <th></th>\n",
       "      <th>id</th>\n",
       "      <th>longitude</th>\n",
       "      <th>latitude</th>\n",
       "      <th>neighborhood_id</th>\n",
       "      <th>avg_price</th>\n",
       "    </tr>\n",
       "  </thead>\n",
       "  <tbody>\n",
       "    <tr>\n",
       "      <th>0</th>\n",
       "      <td>61</td>\n",
       "      <td>-73.99530</td>\n",
       "      <td>40.74623</td>\n",
       "      <td>17</td>\n",
       "      <td>375.0</td>\n",
       "    </tr>\n",
       "    <tr>\n",
       "      <th>1</th>\n",
       "      <td>114</td>\n",
       "      <td>-73.98157</td>\n",
       "      <td>40.72540</td>\n",
       "      <td>29</td>\n",
       "      <td>350.0</td>\n",
       "    </tr>\n",
       "    <tr>\n",
       "      <th>2</th>\n",
       "      <td>116</td>\n",
       "      <td>-73.95748</td>\n",
       "      <td>40.71942</td>\n",
       "      <td>15</td>\n",
       "      <td>325.0</td>\n",
       "    </tr>\n",
       "  </tbody>\n",
       "</table>\n",
       "</div>"
      ],
      "text/plain": [
       "    id  longitude  latitude  neighborhood_id  avg_price\n",
       "0   61  -73.99530  40.74623               17      375.0\n",
       "1  114  -73.98157  40.72540               29      350.0\n",
       "2  116  -73.95748  40.71942               15      325.0"
      ]
     },
     "execution_count": 42,
     "metadata": {},
     "output_type": "execute_result"
    }
   ],
   "source": [
    "locations_range_df[:3]\n",
    "\n",
    "# \tid\tlongitude\tlatitude\tneighborhood_id\tavg_price\n",
    "# 0\t61\t-73.99530\t40.74623\t17\t375.0\n",
    "# 1\t114\t-73.98157\t40.72540\t29\t350.0\n",
    "# 2\t116\t-73.95748\t40.71942\t15\t325.0"
   ]
  },
  {
   "cell_type": "markdown",
   "metadata": {},
   "source": [
    "Now that this is working let's incoroporate this into our app.  We can assign the values from the respective sliders as `max_price` and `min_price`.  And we can then execute our function `find_locations` function providing these values."
   ]
  },
  {
   "cell_type": "markdown",
   "metadata": {},
   "source": [
    "If this is working, the map will load up showing no listings as there are no listings between a min price of 20 and a max price of 20."
   ]
  },
  {
   "cell_type": "markdown",
   "metadata": {},
   "source": [
    "<img src=\"./updated-blank.png\" width=\"50%\">"
   ]
  },
  {
   "cell_type": "markdown",
   "metadata": {},
   "source": [
    "As you move the sliders, you should see more available listings."
   ]
  },
  {
   "cell_type": "markdown",
   "metadata": {},
   "source": [
    "### Selecting Categories"
   ]
  },
  {
   "cell_type": "markdown",
   "metadata": {},
   "source": [
    "Ok, now let's link up our select neighborhoods multiselect to our map."
   ]
  },
  {
   "cell_type": "markdown",
   "metadata": {},
   "source": [
    "To do this, we'll need to update our `find_locations` function so that it also takes an argument of a list of `neighborhoods`.  Then when different neighborhoods are passed to the function, we should only select locations in those neighborhoods."
   ]
  },
  {
   "cell_type": "markdown",
   "metadata": {},
   "source": [
    "The easiest way to accomplish this is to use a HAVING IN clause.  The IN clause takes a tuple.  And we can interpolate a tuple, incorporating it into our string."
   ]
  },
  {
   "cell_type": "code",
   "execution_count": 48,
   "metadata": {},
   "outputs": [
    {
     "data": {
      "text/plain": [
       "\"HAVING something IN ('Manhattan', 'Brooklyn')\""
      ]
     },
     "execution_count": 48,
     "metadata": {},
     "output_type": "execute_result"
    }
   ],
   "source": [
    "neighborhoods_tuple = ('Manhattan', 'Brooklyn')\n",
    "f'HAVING something IN {neighborhoods_tuple}'"
   ]
  },
  {
   "cell_type": "markdown",
   "metadata": {},
   "source": [
    "Not bad."
   ]
  },
  {
   "cell_type": "markdown",
   "metadata": {},
   "source": [
    "Now we might like to move this directly into our SQL query.  But one issue is that if we just have one element, the tuple has a comma at the end, which will cause issues for sql."
   ]
  },
  {
   "cell_type": "code",
   "execution_count": 49,
   "metadata": {},
   "outputs": [
    {
     "data": {
      "text/plain": [
       "\"HAVING something IN ('Manhattan',)\""
      ]
     },
     "execution_count": 49,
     "metadata": {},
     "output_type": "execute_result"
    }
   ],
   "source": [
    "neighborhoods_tuple = ('Manhattan',)\n",
    "f'HAVING something IN {neighborhoods_tuple}'"
   ]
  },
  {
   "cell_type": "markdown",
   "metadata": {},
   "source": [
    "> That will break."
   ]
  },
  {
   "cell_type": "markdown",
   "metadata": {},
   "source": [
    "So write a function called format tuple, that returns the correct string if only one element is in the tuple."
   ]
  },
  {
   "cell_type": "code",
   "execution_count": 60,
   "metadata": {},
   "outputs": [],
   "source": [
    "def format_neighborhoods(neighborhoods):\n",
    "    if len(neighborhoods) > 1:\n",
    "        return f'{tuple(neighborhoods)}'\n",
    "    else:\n",
    "        first_neighborhood = neighborhoods[0]\n",
    "        return f\"('{first_neighborhood}')\""
   ]
  },
  {
   "cell_type": "code",
   "execution_count": 65,
   "metadata": {},
   "outputs": [
    {
     "data": {
      "text/plain": [
       "\"('Manhattan', 'Brooklyn')\""
      ]
     },
     "execution_count": 65,
     "metadata": {},
     "output_type": "execute_result"
    }
   ],
   "source": [
    "neighborhoods = ['Manhattan', 'Brooklyn']\n",
    "format_neighborhoods(neighborhoods)\n",
    "\n",
    "# \"('Manhattan', 'Brooklyn')\""
   ]
  },
  {
   "cell_type": "code",
   "execution_count": 68,
   "metadata": {},
   "outputs": [
    {
     "data": {
      "text/plain": [
       "\"('Manhattan')\""
      ]
     },
     "execution_count": 68,
     "metadata": {},
     "output_type": "execute_result"
    }
   ],
   "source": [
    "neighborhoods = ['Manhattan']\n",
    "format_neighborhoods(neighborhoods)\n",
    "# \"('Manhattan')\""
   ]
  },
  {
   "cell_type": "markdown",
   "metadata": {},
   "source": [
    "> Make sure there are quotation marks surrounding `'Manhattan'`."
   ]
  },
  {
   "cell_type": "markdown",
   "metadata": {},
   "source": [
    "Now use this method in the `find_locations` method. "
   ]
  },
  {
   "cell_type": "code",
   "execution_count": 161,
   "metadata": {},
   "outputs": [],
   "source": [
    "def find_locations(neighborhoods, min_price = 0, max_price = 5000):\n",
    "    pass\n",
    "#     return pd.read_sql(query, conn)"
   ]
  },
  {
   "cell_type": "code",
   "execution_count": 162,
   "metadata": {},
   "outputs": [],
   "source": [
    "selected_neighborhoods = all_neighborhoods()"
   ]
  },
  {
   "cell_type": "code",
   "execution_count": 163,
   "metadata": {},
   "outputs": [],
   "source": [
    "selected_neighborhoods_df = find_locations(selected_neighborhoods, min_price = 300, max_price = 400)"
   ]
  },
  {
   "cell_type": "code",
   "execution_count": 165,
   "metadata": {},
   "outputs": [],
   "source": [
    "# selected_neighborhoods_df[:2]\n",
    "# \n",
    "# id\tlongitude\tlatitude\tneighborhood_id\tavg_price\n",
    "# 0\t61\t-73.99530\t40.74623\t17\t375.0\n",
    "# 1\t114\t-73.98157\t40.72540\t29\t350.0"
   ]
  },
  {
   "cell_type": "code",
   "execution_count": 91,
   "metadata": {},
   "outputs": [],
   "source": [
    "selected_neighborhoods_df = find_locations(['Battery Park City', 'Chelsea'], 300, 310)"
   ]
  },
  {
   "cell_type": "code",
   "execution_count": 93,
   "metadata": {},
   "outputs": [
    {
     "data": {
      "text/html": [
       "<div>\n",
       "<style scoped>\n",
       "    .dataframe tbody tr th:only-of-type {\n",
       "        vertical-align: middle;\n",
       "    }\n",
       "\n",
       "    .dataframe tbody tr th {\n",
       "        vertical-align: top;\n",
       "    }\n",
       "\n",
       "    .dataframe thead th {\n",
       "        text-align: right;\n",
       "    }\n",
       "</style>\n",
       "<table border=\"1\" class=\"dataframe\">\n",
       "  <thead>\n",
       "    <tr style=\"text-align: right;\">\n",
       "      <th></th>\n",
       "      <th>id</th>\n",
       "      <th>longitude</th>\n",
       "      <th>latitude</th>\n",
       "      <th>neighborhood_id</th>\n",
       "      <th>avg_price</th>\n",
       "    </tr>\n",
       "  </thead>\n",
       "  <tbody>\n",
       "    <tr>\n",
       "      <th>0</th>\n",
       "      <td>38629</td>\n",
       "      <td>-73.99604</td>\n",
       "      <td>40.73878</td>\n",
       "      <td>17</td>\n",
       "      <td>303.0</td>\n",
       "    </tr>\n",
       "    <tr>\n",
       "      <th>1</th>\n",
       "      <td>38692</td>\n",
       "      <td>-73.99616</td>\n",
       "      <td>40.73918</td>\n",
       "      <td>17</td>\n",
       "      <td>303.0</td>\n",
       "    </tr>\n",
       "    <tr>\n",
       "      <th>2</th>\n",
       "      <td>38750</td>\n",
       "      <td>-73.99955</td>\n",
       "      <td>40.74148</td>\n",
       "      <td>17</td>\n",
       "      <td>303.0</td>\n",
       "    </tr>\n",
       "    <tr>\n",
       "      <th>3</th>\n",
       "      <td>39898</td>\n",
       "      <td>-73.99488</td>\n",
       "      <td>40.74228</td>\n",
       "      <td>17</td>\n",
       "      <td>306.0</td>\n",
       "    </tr>\n",
       "    <tr>\n",
       "      <th>4</th>\n",
       "      <td>46563</td>\n",
       "      <td>-74.00000</td>\n",
       "      <td>40.74625</td>\n",
       "      <td>17</td>\n",
       "      <td>305.0</td>\n",
       "    </tr>\n",
       "  </tbody>\n",
       "</table>\n",
       "</div>"
      ],
      "text/plain": [
       "      id  longitude  latitude  neighborhood_id  avg_price\n",
       "0  38629  -73.99604  40.73878               17      303.0\n",
       "1  38692  -73.99616  40.73918               17      303.0\n",
       "2  38750  -73.99955  40.74148               17      303.0\n",
       "3  39898  -73.99488  40.74228               17      306.0\n",
       "4  46563  -74.00000  40.74625               17      305.0"
      ]
     },
     "execution_count": 93,
     "metadata": {},
     "output_type": "execute_result"
    }
   ],
   "source": [
    "selected_neighborhoods_df\n",
    "\n",
    "\n",
    "# id\tlongitude\tlatitude\tneighborhood_id\tavg_price\n",
    "# 0\t38629\t-73.99604\t40.73878\t17\t303.0\n",
    "# 1\t38692\t-73.99616\t40.73918\t17\t303.0\n",
    "# 2\t38750\t-73.99955\t40.74148\t17\t303.0\n",
    "# 3\t39898\t-73.99488\t40.74228\t17\t306.0\n",
    "# 4\t46563\t-74.00000\t40.74625\t17\t305.0"
   ]
  },
  {
   "cell_type": "markdown",
   "metadata": {},
   "source": [
    "Ok, now let's update the find_locations function in our `app.py` file so that it selects the listings provided by our multiselect."
   ]
  },
  {
   "cell_type": "markdown",
   "metadata": {},
   "source": [
    "<img src=\"./listings-chelsea.png\" width=\"50%\">"
   ]
  },
  {
   "cell_type": "markdown",
   "metadata": {},
   "source": [
    "### Adding Plotly"
   ]
  },
  {
   "cell_type": "markdown",
   "metadata": {},
   "source": [
    "Now let's add a chart displaying the types of rooms that are selected."
   ]
  },
  {
   "cell_type": "markdown",
   "metadata": {},
   "source": [
    "First, add in `listings.room_type` to the SELECT statement in our `find_locations` function so that our SQL query also returns the room type."
   ]
  },
  {
   "cell_type": "code",
   "execution_count": 167,
   "metadata": {},
   "outputs": [],
   "source": [
    "def find_locations(neighborhoods, min_price = 0, max_price = 5000):\n",
    "    pass"
   ]
  },
  {
   "cell_type": "code",
   "execution_count": 106,
   "metadata": {},
   "outputs": [],
   "source": [
    "locations_df = find_locations(selected_neighborhoods)"
   ]
  },
  {
   "cell_type": "code",
   "execution_count": 108,
   "metadata": {},
   "outputs": [
    {
     "data": {
      "text/html": [
       "<div>\n",
       "<style scoped>\n",
       "    .dataframe tbody tr th:only-of-type {\n",
       "        vertical-align: middle;\n",
       "    }\n",
       "\n",
       "    .dataframe tbody tr th {\n",
       "        vertical-align: top;\n",
       "    }\n",
       "\n",
       "    .dataframe thead th {\n",
       "        text-align: right;\n",
       "    }\n",
       "</style>\n",
       "<table border=\"1\" class=\"dataframe\">\n",
       "  <thead>\n",
       "    <tr style=\"text-align: right;\">\n",
       "      <th></th>\n",
       "      <th>id</th>\n",
       "      <th>longitude</th>\n",
       "      <th>latitude</th>\n",
       "      <th>neighborhood_id</th>\n",
       "      <th>avg_price</th>\n",
       "      <th>room_type</th>\n",
       "    </tr>\n",
       "  </thead>\n",
       "  <tbody>\n",
       "    <tr>\n",
       "      <th>0</th>\n",
       "      <td>0</td>\n",
       "      <td>-73.97237</td>\n",
       "      <td>40.64749</td>\n",
       "      <td>0</td>\n",
       "      <td>149.0</td>\n",
       "      <td>Private room</td>\n",
       "    </tr>\n",
       "    <tr>\n",
       "      <th>1</th>\n",
       "      <td>1</td>\n",
       "      <td>-73.98377</td>\n",
       "      <td>40.75362</td>\n",
       "      <td>1</td>\n",
       "      <td>225.0</td>\n",
       "      <td>Entire home/apt</td>\n",
       "    </tr>\n",
       "  </tbody>\n",
       "</table>\n",
       "</div>"
      ],
      "text/plain": [
       "   id  longitude  latitude  neighborhood_id  avg_price        room_type\n",
       "0   0  -73.97237  40.64749                0      149.0     Private room\n",
       "1   1  -73.98377  40.75362                1      225.0  Entire home/apt"
      ]
     },
     "execution_count": 108,
     "metadata": {},
     "output_type": "execute_result"
    }
   ],
   "source": [
    "locations_df[:2]\n",
    "\n",
    "# \tid\tlongitude\tlatitude\tneighborhood_id\tavg_price\troom_type\n",
    "# 0\t0\t-73.97237\t40.64749\t0\t149.0\tPrivate room\n",
    "# 1\t1\t-73.98377\t40.75362\t1\t225.0\tEntire home/apt"
   ]
  },
  {
   "cell_type": "markdown",
   "metadata": {},
   "source": [
    "From here we can use this data to provide a histogram of the types of rooms returned by the `find_locations` function."
   ]
  },
  {
   "cell_type": "markdown",
   "metadata": {},
   "source": [
    "1. First let's convert the values returned from the dataframe to a dictionary."
   ]
  },
  {
   "cell_type": "code",
   "execution_count": 115,
   "metadata": {},
   "outputs": [],
   "source": [
    "locations_df = find_locations(selected_neighborhoods, 250, 275)\n",
    "locations = locations_df.to_dict('records')"
   ]
  },
  {
   "cell_type": "code",
   "execution_count": 116,
   "metadata": {},
   "outputs": [
    {
     "data": {
      "text/plain": [
       "[{'id': 201,\n",
       "  'longitude': -73.87854,\n",
       "  'latitude': 40.71546,\n",
       "  'neighborhood_id': 199,\n",
       "  'avg_price': 265.0,\n",
       "  'room_type': 'Entire home/apt'},\n",
       " {'id': 400,\n",
       "  'longitude': -73.9926,\n",
       "  'latitude': 40.66862,\n",
       "  'neighborhood_id': 109,\n",
       "  'avg_price': 260.0,\n",
       "  'room_type': 'Entire home/apt'}]"
      ]
     },
     "execution_count": 116,
     "metadata": {},
     "output_type": "execute_result"
    }
   ],
   "source": [
    "locations[:2]"
   ]
  },
  {
   "cell_type": "code",
   "execution_count": 117,
   "metadata": {},
   "outputs": [
    {
     "data": {
      "text/plain": [
       "400"
      ]
     },
     "execution_count": 117,
     "metadata": {},
     "output_type": "execute_result"
    }
   ],
   "source": [
    "len(locations)\n",
    "# 400"
   ]
  },
  {
   "cell_type": "markdown",
   "metadata": {},
   "source": [
    "2. Next let's turn this list of dictionaries into a `room_type` for each listing."
   ]
  },
  {
   "cell_type": "code",
   "execution_count": 168,
   "metadata": {},
   "outputs": [],
   "source": [
    "room_types = None"
   ]
  },
  {
   "cell_type": "code",
   "execution_count": 120,
   "metadata": {},
   "outputs": [
    {
     "data": {
      "text/plain": [
       "['Entire home/apt', 'Entire home/apt']"
      ]
     },
     "execution_count": 120,
     "metadata": {},
     "output_type": "execute_result"
    }
   ],
   "source": [
    "room_types[:2]\n",
    "# ['Entire home/apt', 'Entire home/apt']"
   ]
  },
  {
   "cell_type": "markdown",
   "metadata": {},
   "source": [
    "Let's take a look at the available options, find a unique collection of the room types."
   ]
  },
  {
   "cell_type": "code",
   "execution_count": 169,
   "metadata": {},
   "outputs": [],
   "source": [
    "all_room_types = None\n",
    "all_room_types\n",
    "# {'Entire home/apt', 'Private room', 'Shared room'}"
   ]
  },
  {
   "cell_type": "markdown",
   "metadata": {},
   "source": [
    "Ok, now let's create a dictionary where each key represents a different room type and the value indicates the number of rooms of that type."
   ]
  },
  {
   "cell_type": "markdown",
   "metadata": {},
   "source": [
    "> You can use the `collections.Counter` function in Python to accomplish this."
   ]
  },
  {
   "cell_type": "code",
   "execution_count": 170,
   "metadata": {},
   "outputs": [],
   "source": [
    "import collections\n",
    "\n",
    "room_hist = None\n",
    "\n",
    "room_hist\n",
    "# {'Entire home/apt': 376, 'Private room': 23, 'Shared room': 1}"
   ]
  },
  {
   "cell_type": "markdown",
   "metadata": {},
   "source": [
    "> Make sure the return value is a dictionary."
   ]
  },
  {
   "cell_type": "markdown",
   "metadata": {},
   "source": [
    "Next, let's turn this into a plot.  We'll do this for you."
   ]
  },
  {
   "cell_type": "code",
   "execution_count": 132,
   "metadata": {},
   "outputs": [],
   "source": [
    "import plotly.graph_objects as go"
   ]
  },
  {
   "cell_type": "code",
   "execution_count": 138,
   "metadata": {},
   "outputs": [],
   "source": [
    "scatter = go.Bar(x = list(room_hist.keys()), y = list(room_hist.values()))"
   ]
  },
  {
   "cell_type": "code",
   "execution_count": 140,
   "metadata": {},
   "outputs": [],
   "source": [
    "fig = go.Figure(scatter)"
   ]
  },
  {
   "cell_type": "markdown",
   "metadata": {},
   "source": [
    "Finally, any plotly figure, we can display in streamlit with the `st.plotly_chart` function."
   ]
  },
  {
   "cell_type": "code",
   "execution_count": 141,
   "metadata": {},
   "outputs": [
    {
     "data": {
      "text/plain": [
       "<streamlit.DeltaGenerator.DeltaGenerator at 0x110cb1610>"
      ]
     },
     "execution_count": 141,
     "metadata": {},
     "output_type": "execute_result"
    }
   ],
   "source": [
    "st.plotly_chart(fig)"
   ]
  },
  {
   "cell_type": "markdown",
   "metadata": {},
   "source": [
    "####  Move into our app.py file."
   ]
  },
  {
   "cell_type": "markdown",
   "metadata": {},
   "source": [
    "Ok, now that this seems to be working, let's refactor this into functions."
   ]
  },
  {
   "cell_type": "markdown",
   "metadata": {},
   "source": [
    "1. `room_type_hist`"
   ]
  },
  {
   "cell_type": "markdown",
   "metadata": {},
   "source": [
    "First me want a `room_type_hist` function that takes as an input the returned dataframe from `find_locations` and returns the dictionary of room type amounts"
   ]
  },
  {
   "cell_type": "code",
   "execution_count": null,
   "metadata": {},
   "outputs": [],
   "source": [
    "locations_df = find_locations(selected_neighborhoods, 250, 275)"
   ]
  },
  {
   "cell_type": "code",
   "execution_count": 171,
   "metadata": {},
   "outputs": [],
   "source": [
    "import collections\n",
    "\n",
    "def room_hist(locations_df):\n",
    "    pass\n",
    "# {'Entire home/apt': 376, 'Private room': 23, 'Shared room': 1}"
   ]
  },
  {
   "cell_type": "code",
   "execution_count": 172,
   "metadata": {},
   "outputs": [],
   "source": [
    "locations_df = find_locations(selected_neighborhoods, 250, 275)\n",
    "room_hist(locations_df)\n",
    "# {'Entire home/apt': 376, 'Private room': 23, 'Shared room': 1}"
   ]
  },
  {
   "cell_type": "markdown",
   "metadata": {},
   "source": [
    "2. `plot_bar_chart`\n",
    "\n",
    "This one we'll do for you.  It takes our dictionary returned from `room_hist`, and then from there it returns a `bar_chart` figure."
   ]
  },
  {
   "cell_type": "code",
   "execution_count": 145,
   "metadata": {},
   "outputs": [],
   "source": [
    "import plotly.graph_objects as go\n",
    "def bar_chart(histogram):\n",
    "    x_vals = list(histogram.keys())\n",
    "    y_vals = list(histogram.values())\n",
    "    bar = go.Bar(x = x_vals, y = y_vals)\n",
    "    return go.Figure(bar)"
   ]
  },
  {
   "cell_type": "code",
   "execution_count": 147,
   "metadata": {},
   "outputs": [],
   "source": [
    "hist = room_hist(locations_df)\n",
    "# bar_chart(hist)"
   ]
  },
  {
   "cell_type": "markdown",
   "metadata": {},
   "source": [
    "Finally we can move these function calls into streamlit and call the `st.plotly_chart` function."
   ]
  },
  {
   "cell_type": "markdown",
   "metadata": {},
   "source": [
    "When we're done, we should see something like the following:"
   ]
  },
  {
   "cell_type": "markdown",
   "metadata": {},
   "source": [
    "<img src=\"./bnb-explorer-complete.png\" width=\"50%\">"
   ]
  },
  {
   "cell_type": "markdown",
   "metadata": {},
   "source": [
    "### Summary"
   ]
  },
  {
   "cell_type": "markdown",
   "metadata": {},
   "source": [
    "Nice job.  Now smile, and take a break."
   ]
  }
 ],
 "metadata": {
  "kernelspec": {
   "display_name": "Python 3",
   "language": "python",
   "name": "python3"
  },
  "language_info": {
   "codemirror_mode": {
    "name": "ipython",
    "version": 3
   },
   "file_extension": ".py",
   "mimetype": "text/x-python",
   "name": "python",
   "nbconvert_exporter": "python",
   "pygments_lexer": "ipython3",
   "version": "3.7.4"
  }
 },
 "nbformat": 4,
 "nbformat_minor": 4
}
